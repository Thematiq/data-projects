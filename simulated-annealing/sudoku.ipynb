{
 "cells": [
  {
   "cell_type": "markdown",
   "id": "biological-senate",
   "metadata": {},
   "source": [
    "<h1 align=\"center\"> Metody Obliczeniowe w Nauce i Technicie </h1>\n",
    "<h2 align=\"center\"> Laboratorium 5 </h2>\n",
    "<h2 align=\"center\"> Symulowane wyżarzanie </h2>\n",
    "<h3 align=\"center\"> Problem Sudoku </h3>\n",
    "<h3 align=\"center\"> Mateusz Praski </h3>"
   ]
  },
  {
   "cell_type": "code",
   "execution_count": 2,
   "id": "destroyed-pharmacology",
   "metadata": {},
   "outputs": [],
   "source": [
    "import numpy as np\n",
    "import os\n",
    "import matplotlib\n",
    "import matplotlib.pyplot as plt\n",
    "from random import shuffle, randrange\n",
    "from typing import Tuple\n",
    "from math import log, exp\n",
    "from simanneal import Annealer\n",
    "from numba import jit\n",
    "from tqdm import tqdm"
   ]
  },
  {
   "cell_type": "code",
   "execution_count": 4,
   "id": "joint-dialogue",
   "metadata": {},
   "outputs": [],
   "source": [
    "def print_sudoku(a: np.ndarray) -> None:\n",
    "    for y in range(9):\n",
    "        if y > 0 and y % 3 == 0:\n",
    "            print(\"+\".join(['-'*3]*3))\n",
    "        for x in range(9):\n",
    "            if x > 0 and x % 3 == 0:\n",
    "                print('|', end='')\n",
    "            print(f'{a[x // 3, y // 3, x % 3, y % 3]}', end='')\n",
    "        print('')"
   ]
  },
  {
   "cell_type": "code",
   "execution_count": 14,
   "id": "accomplished-victor",
   "metadata": {},
   "outputs": [],
   "source": [
    "def print_unsolved(a: np.ndarray, mask: np.ndarray) -> None:\n",
    "    for y in range(9):\n",
    "        if y > 0 and y % 3 == 0:\n",
    "            print(\"+\".join(['-'*3]*3))\n",
    "        for x in range(9):\n",
    "            if x > 0 and x % 3 == 0:\n",
    "                print('|', end='')\n",
    "            if mask[x // 3, y // 3, x % 3, y % 3]:\n",
    "                print(f'{a[x // 3, y // 3, x % 3, y % 3]}', end='')\n",
    "            else:\n",
    "                print('0', end='')\n",
    "        print('')"
   ]
  },
  {
   "cell_type": "code",
   "execution_count": 21,
   "id": "double-mentor",
   "metadata": {},
   "outputs": [],
   "source": [
    "def fill_board(board: np.ndarray, inplace=False) -> Tuple['board', 'mask']:\n",
    "    board = board if inplace else board.copy()\n",
    "    mask = board > 0\n",
    "    for x in range(3):\n",
    "        for y in range(3):\n",
    "            used = set(board[x, y, ...].ravel().tolist())\n",
    "            available = [x for x in range(10) if x not in used]\n",
    "            shuffle(available)\n",
    "            for px in range(3):\n",
    "                for py in range(3):\n",
    "                    if not mask[x, y, px, py]:\n",
    "                        board[x, y, px, py] = available.pop()\n",
    "    return board"
   ]
  },
  {
   "cell_type": "code",
   "execution_count": 204,
   "id": "false-oklahoma",
   "metadata": {},
   "outputs": [],
   "source": [
    "class SudokuAnneal(Annealer):\n",
    "    def __init__(self, sudoku):\n",
    "        self.mask = sudoku > 0\n",
    "        state = fill_board(sudoku)\n",
    "        self.epochs = 0\n",
    "        super().__init__(state)\n",
    "        \n",
    "    def move(self):\n",
    "        self.epochs += 1\n",
    "        cx, cy = np.random.randint(3, size=2)\n",
    "        while self.mask[cx, cy, ...].sum() > 7:\n",
    "            cx, cy = np.random.randint(3, size=2)\n",
    "        pax, pay = np.random.randint(3, size=2)\n",
    "        pbx, pby = np.random.randint(3, size=2)\n",
    "        while self.mask[cx, cy, pax, pay] or (pax, pay) == (pbx, pby):\n",
    "            pax, pay = np.random.randint(3, size=2)\n",
    "        while self.mask[cx, cy, pbx, pby] or (pax, pay) == (pbx, pby):\n",
    "            pbx, pby = np.random.randint(3, size=2)\n",
    "        self.state[cx, cy, pax, pay], self.state[cx, cy, pbx, pby] = self.state[cx, cy, pbx, pby], self.state[cx, cy, pax, pay]\n",
    "        \n",
    "    def energy(self):\n",
    "        penalty = 0\n",
    "        for x in range(9):\n",
    "            row = self.state[x // 3, :, x % 3, :].ravel().tolist()\n",
    "            penalty += 9 - len(set(row))\n",
    "        for y in range(9):\n",
    "            col = self.state[:, y // 3, :, y % 3].ravel().tolist()\n",
    "            penalty += 9 - len(set(col))\n",
    "        if penalty == 0:\n",
    "            self.user_exit = True\n",
    "        return penalty"
   ]
  },
  {
   "cell_type": "code",
   "execution_count": 205,
   "id": "alone-blackberry",
   "metadata": {},
   "outputs": [],
   "source": [
    "def from_file(filename) -> Tuple['board', 'mask']:\n",
    "    with open(filename, 'r') as f:\n",
    "        data = f.read().replace('\\n', '').replace('x', '0').split(' ')[:81]\n",
    "        \n",
    "    data = np.array(data, dtype='int').reshape(9, 9)\n",
    "    sudoku = np.empty([3]*4, dtype='int')\n",
    "    for y in range(9):\n",
    "        for x in range(9):\n",
    "            sudoku[x // 3, y // 3, x % 3, y % 3] = data[y, x]\n",
    "    return sudoku"
   ]
  },
  {
   "cell_type": "code",
   "execution_count": 240,
   "id": "signal-midnight",
   "metadata": {},
   "outputs": [],
   "source": [
    "def reheatable_solver(sudoku, max_trials=3, tmax=15, tmin=0.01, steps=100000, updates=1000):\n",
    "    solver = SudokuAnneal(sudoku)\n",
    "    for i in range(max_trials):\n",
    "        solver.copy_strategy = \"method\"\n",
    "        solver.Tmax = tmax\n",
    "        solver.Tmin = tmin\n",
    "        solver.steps = steps\n",
    "        solver.updates = updates\n",
    "        state, e = solver.anneal()\n",
    "        if e == 0:\n",
    "            break\n",
    "    return solver"
   ]
  },
  {
   "cell_type": "code",
   "execution_count": 243,
   "id": "loose-invite",
   "metadata": {},
   "outputs": [],
   "source": [
    "sudoku = from_file('sudoku/tasks/s11a.txt')"
   ]
  },
  {
   "cell_type": "code",
   "execution_count": 250,
   "id": "official-leave",
   "metadata": {},
   "outputs": [
    {
     "name": "stderr",
     "output_type": "stream",
     "text": [
      " Temperature        Energy    Accept   Improve     Elapsed   Remaining\n",
      "     0.02000          2.00     1.00%     0.00%     0:00:11     0:00:00 Temperature        Energy    Accept   Improve     Elapsed   Remaining\n",
      "     0.02000          2.00     2.00%     0.00%     0:00:10     0:00:00 Temperature        Energy    Accept   Improve     Elapsed   Remaining\n",
      "     0.02000          2.00     0.00%     0.00%     0:00:11     0:00:00"
     ]
    },
    {
     "data": {
      "text/plain": [
       "<__main__.SudokuAnneal at 0x7f0a14ecd580>"
      ]
     },
     "execution_count": 250,
     "metadata": {},
     "output_type": "execute_result"
    }
   ],
   "source": [
    "reheatable_solver(sudoku, tmax=10, tmin=0.02)"
   ]
  },
  {
   "cell_type": "code",
   "execution_count": 253,
   "id": "correct-mailman",
   "metadata": {},
   "outputs": [],
   "source": [
    "def get_data(directory, **anneal_kwargs):\n",
    "    scores = {}\n",
    "    solved = []\n",
    "    t = tqdm(os.listdir(directory))\n",
    "    for file in t:\n",
    "        t.set_description(f'Current file: {file}')\n",
    "        sudoku = from_file(os.path.join(directory, file))\n",
    "        empty_cells = np.sum(sudoku == 0)\n",
    "        solver = reheatable_solver(sudoku, **anneal_kwargs)\n",
    "        time = solver.epochs\n",
    "        solv = solver.energy() == 0\n",
    "        if empty_cells not in scores:\n",
    "            scores[empty_cells] = list()\n",
    "        scores[empty_cells].append(time)\n",
    "        solved.append(solv)\n",
    "    return scores, solved"
   ]
  },
  {
   "cell_type": "code",
   "execution_count": 254,
   "id": "coupled-auckland",
   "metadata": {},
   "outputs": [
    {
     "name": "stderr",
     "output_type": "stream",
     "text": [
      "Current file: s15a.txt:   0%|          | 0/46 [00:00<?, ?it/s] Temperature        Energy    Accept   Improve     Elapsed   Remaining\n",
      "     0.02000          2.00     0.00%     0.00%     0:00:11     0:00:00 Temperature        Energy    Accept   Improve     Elapsed   Remaining\n",
      "     0.02000          2.00     1.00%     0.00%     0:00:10     0:00:00 Temperature        Energy    Accept   Improve     Elapsed   Remaining\n",
      "Current file: s13a.txt:   2%|▏         | 1/46 [00:31<23:41, 31.59s/it] Temperature        Energy    Accept   Improve     Elapsed   Remaining\n",
      "     0.02000          2.00     2.00%     0.00%     0:00:10     0:00:00 Temperature        Energy    Accept   Improve     Elapsed   Remaining\n",
      "Current file: s08b.txt:   4%|▍         | 2/46 [00:46<16:08, 22.01s/it] Temperature        Energy    Accept   Improve     Elapsed   Remaining\n",
      "     0.02000          4.00     0.00%     0.00%     0:00:09     0:00:00 Temperature        Energy    Accept   Improve     Elapsed   Remaining\n",
      "     0.02000          2.00     0.00%     0.00%     0:00:09     0:00:00 Temperature        Energy    Accept   Improve     Elapsed   Remaining\n",
      "Current file: s01c.txt:   7%|▋         | 3/46 [01:15<17:54, 24.99s/it] Temperature        Energy    Accept   Improve     Elapsed   Remaining\n",
      "Current file: s12b.txt:   9%|▊         | 4/46 [01:22<12:40, 18.11s/it] Temperature        Energy    Accept   Improve     Elapsed   Remaining\n",
      "Current file: s11c.txt:  11%|█         | 5/46 [01:28<09:13, 13.51s/it] Temperature        Energy    Accept   Improve     Elapsed   Remaining\n",
      "     0.02000          3.00     0.00%     0.00%     0:00:10     0:00:00 Temperature        Energy    Accept   Improve     Elapsed   Remaining\n",
      "     0.02000          2.00     2.00%     0.00%     0:00:10     0:00:00 Temperature        Energy    Accept   Improve     Elapsed   Remaining\n",
      "Current file: s03a.txt:  13%|█▎        | 6/46 [01:53<11:45, 17.64s/it] Temperature        Energy    Accept   Improve     Elapsed   Remaining\n",
      "Current file: s04c.txt:  15%|█▌        | 7/46 [01:59<08:48, 13.56s/it] Temperature        Energy    Accept   Improve     Elapsed   Remaining\n",
      "     0.02000          2.00     1.00%     0.00%     0:00:10     0:00:00 Temperature        Energy    Accept   Improve     Elapsed   Remaining\n",
      "     0.02000          2.00     2.00%     0.00%     0:00:10     0:00:00 Temperature        Energy    Accept   Improve     Elapsed   Remaining\n",
      "Current file: s05b.txt:  17%|█▋        | 8/46 [02:30<12:09, 19.19s/it] Temperature        Energy    Accept   Improve     Elapsed   Remaining\n",
      "     0.02000          2.00     0.00%     0.00%     0:00:10     0:00:00 Temperature        Energy    Accept   Improve     Elapsed   Remaining\n",
      "     0.02000          2.00     4.00%     0.00%     0:00:10     0:00:00 Temperature        Energy    Accept   Improve     Elapsed   Remaining\n",
      "Current file: s11b.txt:  20%|█▉        | 9/46 [03:00<13:56, 22.61s/it] Temperature        Energy    Accept   Improve     Elapsed   Remaining\n",
      "     0.02000          2.00     5.00%     0.00%     0:00:10     0:00:00 Temperature        Energy    Accept   Improve     Elapsed   Remaining\n",
      "     0.02000          2.00     2.00%     0.00%     0:00:10     0:00:00 Temperature        Energy    Accept   Improve     Elapsed   Remaining\n",
      "Current file: s13b.txt:  22%|██▏       | 10/46 [03:30<14:51, 24.77s/it] Temperature        Energy    Accept   Improve     Elapsed   Remaining\n",
      "Current file: s08c.txt:  24%|██▍       | 11/46 [03:35<11:01, 18.91s/it] Temperature        Energy    Accept   Improve     Elapsed   Remaining\n",
      "Current file: s12a.txt:  26%|██▌       | 12/46 [03:41<08:30, 15.01s/it] Temperature        Energy    Accept   Improve     Elapsed   Remaining\n",
      "     0.02000          2.00     0.00%     0.00%     0:00:10     0:00:00 Temperature        Energy    Accept   Improve     Elapsed   Remaining\n",
      "     0.02000          2.00     3.00%     0.00%     0:00:10     0:00:00 Temperature        Energy    Accept   Improve     Elapsed   Remaining\n",
      "Current file: s12c.txt:  28%|██▊       | 13/46 [04:10<10:33, 19.20s/it] Temperature        Energy    Accept   Improve     Elapsed   Remaining\n",
      "     0.02000          2.00     1.00%     0.00%     0:00:10     0:00:00 Temperature        Energy    Accept   Improve     Elapsed   Remaining\n",
      "     0.02000          2.00     0.00%     0.00%     0:00:10     0:00:00 Temperature        Energy    Accept   Improve     Elapsed   Remaining\n",
      "Current file: s13c.txt:  30%|███       | 14/46 [04:40<11:53, 22.30s/it] Temperature        Energy    Accept   Improve     Elapsed   Remaining\n",
      "Current file: s15b.txt:  33%|███▎      | 15/46 [04:45<08:51, 17.15s/it] Temperature        Energy    Accept   Improve     Elapsed   Remaining\n",
      "     0.02000          2.00     1.00%     0.00%     0:00:10     0:00:00 Temperature        Energy    Accept   Improve     Elapsed   Remaining\n",
      "     0.02000          2.00     1.00%     0.00%     0:00:10     0:00:00 Temperature        Energy    Accept   Improve     Elapsed   Remaining\n",
      "Current file: s09c.txt:  35%|███▍      | 16/46 [05:16<10:37, 21.23s/it] Temperature        Energy    Accept   Improve     Elapsed   Remaining\n",
      "     0.02000          3.00     0.00%     0.00%     0:00:10     0:00:00 Temperature        Energy    Accept   Improve     Elapsed   Remaining\n",
      "     0.02000          2.00     3.00%     0.00%     0:00:10     0:00:00 Temperature        Energy    Accept   Improve     Elapsed   Remaining\n",
      "Current file: s07c.txt:  37%|███▋      | 17/46 [05:45<11:26, 23.67s/it] Temperature        Energy    Accept   Improve     Elapsed   Remaining\n",
      "Current file: s08a.txt:  39%|███▉      | 18/46 [05:50<08:30, 18.22s/it] Temperature        Energy    Accept   Improve     Elapsed   Remaining\n",
      "Current file: s04b.txt:  41%|████▏     | 19/46 [05:56<06:27, 14.35s/it] Temperature        Energy    Accept   Improve     Elapsed   Remaining\n",
      "     0.02000          2.00     1.00%     0.00%     0:00:10     0:00:00 Temperature        Energy    Accept   Improve     Elapsed   Remaining\n",
      "     0.02000          2.00     0.00%     0.00%     0:00:10     0:00:00 Temperature        Energy    Accept   Improve     Elapsed   Remaining\n",
      "Current file: s06c.txt:  43%|████▎     | 20/46 [06:21<07:41, 17.75s/it] Temperature        Energy    Accept   Improve     Elapsed   Remaining\n",
      "Current file: s10c.txt:  46%|████▌     | 21/46 [06:27<05:49, 13.96s/it] Temperature        Energy    Accept   Improve     Elapsed   Remaining\n",
      "Current file: s05c.txt:  48%|████▊     | 22/46 [06:32<04:32, 11.34s/it] Temperature        Energy    Accept   Improve     Elapsed   Remaining\n",
      "     0.02000          2.00     4.00%     0.00%     0:00:10     0:00:00 Temperature        Energy    Accept   Improve     Elapsed   Remaining\n",
      "     0.02000          2.00     0.00%     0.00%     0:00:10     0:00:00 Temperature        Energy    Accept   Improve     Elapsed   Remaining\n",
      "Current file: s06b.txt:  50%|█████     | 23/46 [07:02<06:32, 17.06s/it] Temperature        Energy    Accept   Improve     Elapsed   Remaining\n",
      "Current file: s04a.txt:  52%|█████▏    | 24/46 [07:07<04:54, 13.37s/it] Temperature        Energy    Accept   Improve     Elapsed   Remaining\n",
      "     0.02000          3.00     1.00%     0.00%     0:00:10     0:00:00 Temperature        Energy    Accept   Improve     Elapsed   Remaining\n",
      "     0.02000          2.00     6.00%     0.00%     0:00:11     0:00:00 Temperature        Energy    Accept   Improve     Elapsed   Remaining\n",
      "Current file: s15c.txt:  54%|█████▍    | 25/46 [07:39<06:36, 18.88s/it] Temperature        Energy    Accept   Improve     Elapsed   Remaining\n",
      "     0.02000          2.00     1.00%     0.00%     0:00:10     0:00:00 Temperature        Energy    Accept   Improve     Elapsed   Remaining\n",
      "     0.02000          2.00     0.00%     0.00%     0:00:10     0:00:00 Temperature        Energy    Accept   Improve     Elapsed   Remaining\n",
      "Current file: s03b.txt:  57%|█████▋    | 26/46 [08:09<07:26, 22.33s/it] Temperature        Energy    Accept   Improve     Elapsed   Remaining\n",
      "     0.02000          3.00     1.00%     0.00%     0:00:10     0:00:00 Temperature        Energy    Accept   Improve     Elapsed   Remaining\n",
      "Current file: s14c.txt:  59%|█████▊    | 27/46 [08:26<06:31, 20.60s/it] Temperature        Energy    Accept   Improve     Elapsed   Remaining\n",
      "     0.02000          4.00     4.00%     0.00%     0:00:11     0:00:00 Temperature        Energy    Accept   Improve     Elapsed   Remaining\n",
      "Current file: s16.txt:  61%|██████    | 28/46 [08:43<05:54, 19.71s/it]  Temperature        Energy    Accept   Improve     Elapsed   Remaining\n",
      "     0.02000          2.00     0.00%     0.00%     0:00:10     0:00:00 Temperature        Energy    Accept   Improve     Elapsed   Remaining\n",
      "Current file: s02b.txt:  63%|██████▎   | 29/46 [08:59<05:14, 18.48s/it] Temperature        Energy    Accept   Improve     Elapsed   Remaining\n",
      "     0.02000          2.00     1.00%     0.00%     0:00:10     0:00:00 Temperature        Energy    Accept   Improve     Elapsed   Remaining\n",
      "Current file: s09b.txt:  65%|██████▌   | 30/46 [09:16<04:50, 18.14s/it] Temperature        Energy    Accept   Improve     Elapsed   Remaining\n",
      "     0.02000          2.00     0.00%     0.00%     0:00:10     0:00:00 Temperature        Energy    Accept   Improve     Elapsed   Remaining\n",
      "     0.02000          2.00     3.00%     0.00%     0:00:10     0:00:00 Temperature        Energy    Accept   Improve     Elapsed   Remaining\n",
      "Current file: s14a.txt:  67%|██████▋   | 31/46 [09:44<05:16, 21.08s/it] Temperature        Energy    Accept   Improve     Elapsed   Remaining\n",
      "     0.02000          2.00     2.00%     0.00%     0:00:11     0:00:00 Temperature        Energy    Accept   Improve     Elapsed   Remaining\n",
      "Current file: s01b.txt:  70%|██████▉   | 32/46 [10:01<04:38, 19.89s/it] Temperature        Energy    Accept   Improve     Elapsed   Remaining\n",
      "Current file: s06a.txt:  72%|███████▏  | 33/46 [10:07<03:21, 15.48s/it] Temperature        Energy    Accept   Improve     Elapsed   Remaining\n",
      "Current file: s10b.txt:  74%|███████▍  | 34/46 [10:12<02:31, 12.60s/it] Temperature        Energy    Accept   Improve     Elapsed   Remaining\n",
      "     0.02000          4.00     1.00%     0.00%     0:00:11     0:00:00 Temperature        Energy    Accept   Improve     Elapsed   Remaining\n",
      "Current file: s02a.txt:  76%|███████▌  | 35/46 [10:29<02:31, 13.81s/it] Temperature        Energy    Accept   Improve     Elapsed   Remaining\n",
      "     0.02000          5.00     2.00%     0.00%     0:00:11     0:00:00 Temperature        Energy    Accept   Improve     Elapsed   Remaining\n",
      "     0.02000          2.00     0.00%     0.00%     0:00:11     0:00:00 Temperature        Energy    Accept   Improve     Elapsed   Remaining\n",
      "Current file: s14b.txt:  78%|███████▊  | 36/46 [10:59<03:05, 18.56s/it] Temperature        Energy    Accept   Improve     Elapsed   Remaining\n",
      "Current file: s07a.txt:  80%|████████  | 37/46 [11:05<02:13, 14.82s/it] Temperature        Energy    Accept   Improve     Elapsed   Remaining\n",
      "Current file: s10a.txt:  83%|████████▎ | 38/46 [11:11<01:37, 12.16s/it] Temperature        Energy    Accept   Improve     Elapsed   Remaining\n",
      "     0.02000          2.00     0.00%     0.00%     0:00:11     0:00:00 Temperature        Energy    Accept   Improve     Elapsed   Remaining\n",
      "     0.02000          2.00     2.00%     0.00%     0:00:11     0:00:00 Temperature        Energy    Accept   Improve     Elapsed   Remaining\n",
      "Current file: s03c.txt:  85%|████████▍ | 39/46 [11:39<01:58, 16.93s/it] Temperature        Energy    Accept   Improve     Elapsed   Remaining\n",
      "     0.02000          3.00     0.00%     0.00%     0:00:10     0:00:00 Temperature        Energy    Accept   Improve     Elapsed   Remaining\n",
      "Current file: s02c.txt:  87%|████████▋ | 40/46 [11:54<01:39, 16.56s/it] Temperature        Energy    Accept   Improve     Elapsed   Remaining\n",
      "Current file: s05a.txt:  89%|████████▉ | 41/46 [12:02<01:09, 13.82s/it] Temperature        Energy    Accept   Improve     Elapsed   Remaining\n",
      "Current file: s11a.txt:  91%|█████████▏| 42/46 [12:09<00:47, 11.92s/it] Temperature        Energy    Accept   Improve     Elapsed   Remaining\n",
      "     0.02000          4.00     4.00%     0.00%     0:00:11     0:00:00 Temperature        Energy    Accept   Improve     Elapsed   Remaining\n",
      "     0.02000          2.00     0.00%     0.00%     0:00:11     0:00:00 Temperature        Energy    Accept   Improve     Elapsed   Remaining\n",
      "Current file: s01a.txt:  93%|█████████▎| 43/46 [12:37<00:49, 16.61s/it] Temperature        Energy    Accept   Improve     Elapsed   Remaining\n",
      "Current file: s07b.txt:  96%|█████████▌| 44/46 [12:43<00:26, 13.45s/it] Temperature        Energy    Accept   Improve     Elapsed   Remaining\n",
      "     0.02000          2.00     0.00%     0.00%     0:00:11     0:00:00 Temperature        Energy    Accept   Improve     Elapsed   Remaining\n",
      "     0.02000          2.00     0.00%     0.00%     0:00:10     0:00:00 Temperature        Energy    Accept   Improve     Elapsed   Remaining\n",
      "Current file: s09a.txt:  98%|█████████▊| 45/46 [13:13<00:18, 18.31s/it] Temperature        Energy    Accept   Improve     Elapsed   Remaining\n",
      "     0.02000          2.00     2.00%     0.00%     0:00:10     0:00:00 Temperature        Energy    Accept   Improve     Elapsed   Remaining\n",
      "     0.02000          2.00     2.00%     0.00%     0:00:10     0:00:00 Temperature        Energy    Accept   Improve     Elapsed   Remaining\n",
      "Current file: s09a.txt: 100%|██████████| 46/46 [13:43<00:00, 17.91s/it]\n"
     ]
    }
   ],
   "source": [
    "scores, solved = get_data('sudoku/tasks', tmax=10, tmin=0.02)"
   ]
  },
  {
   "cell_type": "code",
   "execution_count": 256,
   "id": "driven-experiment",
   "metadata": {},
   "outputs": [
    {
     "name": "stdout",
     "output_type": "stream",
     "text": [
      "Success rate 71.74%\n"
     ]
    }
   ],
   "source": [
    "print('Success rate {:.2f}%'.format(100 * (np.sum(solved) / len(solved))))"
   ]
  },
  {
   "cell_type": "code",
   "execution_count": 257,
   "id": "raising-night",
   "metadata": {},
   "outputs": [],
   "source": [
    "times = {\n",
    "    key: np.mean(val)\n",
    "    for key, val in scores.items()\n",
    "}"
   ]
  },
  {
   "cell_type": "code",
   "execution_count": 259,
   "id": "intimate-playing",
   "metadata": {},
   "outputs": [
    {
     "data": {
      "text/plain": [
       "Text(0, 0.5, 'Liczba iteracji')"
      ]
     },
     "execution_count": 259,
     "metadata": {},
     "output_type": "execute_result"
    },
    {
     "data": {
      "image/png": "[encoded data removed]",
      "text/plain": [
       "<Figure size 432x288 with 1 Axes>"
      ]
     },
     "metadata": {
      "needs_background": "light"
     },
     "output_type": "display_data"
    }
   ],
   "source": [
    "plt.bar(times.keys(), times.values())\n",
    "plt.xlabel('Liczba pustych pól na wejściu')\n",
    "plt.ylabel('Liczba iteracji')"
   ]
  },
  {
   "cell_type": "code",
   "execution_count": 267,
   "id": "satisfied-sponsorship",
   "metadata": {},
   "outputs": [
    {
     "name": "stdout",
     "output_type": "stream",
     "text": [
      "Map: s01a.txt solved: YES\n",
      "Map: s01b.txt solved: YES\n",
      "Map: s01c.txt solved: YES\n",
      "Map: s02a.txt solved: YES\n",
      "Map: s02b.txt solved: YES\n",
      "Map: s02c.txt solved: YES\n",
      "Map: s03a.txt solved: YES\n",
      "Map: s03b.txt solved: YES\n",
      "Map: s03c.txt solved: YES\n",
      "Map: s04a.txt solved: NO\n",
      "Map: s04b.txt solved: YES\n",
      "Map: s04c.txt solved: NO\n",
      "Map: s05a.txt solved: YES\n",
      "Map: s05b.txt solved: NO\n",
      "Map: s05c.txt solved: NO\n",
      "Map: s06a.txt solved: YES\n",
      "Map: s06b.txt solved: YES\n",
      "Map: s06c.txt solved: YES\n",
      "Map: s07a.txt solved: YES\n",
      "Map: s07b.txt solved: YES\n",
      "Map: s07c.txt solved: YES\n",
      "Map: s08a.txt solved: YES\n",
      "Map: s08b.txt solved: NO\n",
      "Map: s08c.txt solved: YES\n",
      "Map: s09a.txt solved: NO\n",
      "Map: s09b.txt solved: YES\n",
      "Map: s09c.txt solved: NO\n",
      "Map: s10a.txt solved: YES\n",
      "Map: s10b.txt solved: YES\n",
      "Map: s10c.txt solved: YES\n",
      "Map: s11a.txt solved: YES\n",
      "Map: s11b.txt solved: NO\n",
      "Map: s11c.txt solved: YES\n",
      "Map: s12a.txt solved: NO\n",
      "Map: s12b.txt solved: YES\n",
      "Map: s12c.txt solved: NO\n",
      "Map: s13a.txt solved: YES\n",
      "Map: s13b.txt solved: YES\n",
      "Map: s13c.txt solved: YES\n",
      "Map: s14a.txt solved: YES\n",
      "Map: s14b.txt solved: YES\n",
      "Map: s14c.txt solved: YES\n",
      "Map: s15a.txt solved: NO\n",
      "Map: s15b.txt solved: NO\n",
      "Map: s15c.txt solved: NO\n",
      "Map: s16.txt solved: YES\n"
     ]
    }
   ],
   "source": [
    "# OS listdir is deterministic so we can retrieve sudokus story this way\n",
    "files = os.listdir('sudoku/tasks')\n",
    "data = [(status, file) for status, file in zip(solved, files)]\n",
    "sorteddata = sorted(data, key=lambda item: item[1])\n",
    "for status, file in sorteddata:\n",
    "    print(f'Map: {file} solved: {\"YES\" if status else \"NO\"}')"
   ]
  },
  {
   "cell_type": "code",
   "execution_count": 270,
   "id": "determined-definition",
   "metadata": {},
   "outputs": [
    {
     "name": "stderr",
     "output_type": "stream",
     "text": [
      "Current file: s15a.txt:   0%|          | 0/46 [00:00<?, ?it/s] Temperature        Energy    Accept   Improve     Elapsed   Remaining\n",
      "     0.02000          2.00     1.00%     0.00%     0:00:10     0:00:00 Temperature        Energy    Accept   Improve     Elapsed   Remaining\n",
      "     0.02000          2.00     3.00%     0.00%     0:00:11     0:00:00 Temperature        Energy    Accept   Improve     Elapsed   Remaining\n",
      "     0.02000          2.00     0.00%     0.00%     0:00:10     0:00:00 Temperature        Energy    Accept   Improve     Elapsed   Remaining\n",
      "Current file: s13a.txt:   2%|▏         | 1/46 [00:36<27:16, 36.37s/it] Temperature        Energy    Accept   Improve     Elapsed   Remaining\n",
      "Current file: s08b.txt:   4%|▍         | 2/46 [00:41<13:18, 18.14s/it] Temperature        Energy    Accept   Improve     Elapsed   Remaining\n",
      "     0.02000          4.00     0.00%     0.00%     0:00:09     0:00:00 Temperature        Energy    Accept   Improve     Elapsed   Remaining\n",
      "Current file: s01c.txt:   7%|▋         | 3/46 [00:57<12:13, 17.06s/it] Temperature        Energy    Accept   Improve     Elapsed   Remaining\n",
      "Current file: s12b.txt:   9%|▊         | 4/46 [01:03<08:57, 12.79s/it] Temperature        Energy    Accept   Improve     Elapsed   Remaining\n",
      "     0.02000          2.00     3.00%     0.00%     0:00:10     0:00:00 Temperature        Energy    Accept   Improve     Elapsed   Remaining\n",
      "     0.02000          2.00     0.00%     0.00%     0:00:10     0:00:00 Temperature        Energy    Accept   Improve     Elapsed   Remaining\n",
      "     0.02000          2.00     0.00%     0.00%     0:00:10     0:00:00 Temperature        Energy    Accept   Improve     Elapsed   Remaining\n",
      "     0.02000          2.00     1.00%     0.00%     0:00:09     0:00:00 Temperature        Energy    Accept   Improve     Elapsed   Remaining\n",
      "     0.02000          2.00     1.00%     0.00%     0:00:10     0:00:00 Temperature        Energy    Accept   Improve     Elapsed   Remaining\n",
      "     0.02000          2.00     3.00%     0.00%     0:00:10     0:00:00 Temperature        Energy    Accept   Improve     Elapsed   Remaining\n",
      "     0.02000          2.00     4.00%     0.00%     0:00:10     0:00:00 Temperature        Energy    Accept   Improve     Elapsed   Remaining\n",
      "     0.02000          3.00     1.00%     0.00%     0:00:10     0:00:00 Temperature        Energy    Accept   Improve     Elapsed   Remaining\n",
      "Current file: s11c.txt:  11%|█         | 5/46 [02:27<26:10, 38.31s/it] Temperature        Energy    Accept   Improve     Elapsed   Remaining\n",
      "     0.02000          4.00     2.00%     0.00%     0:00:10     0:00:00 Temperature        Energy    Accept   Improve     Elapsed   Remaining\n",
      "     0.02000          2.00     0.00%     0.00%     0:00:10     0:00:00 Temperature        Energy    Accept   Improve     Elapsed   Remaining\n",
      "     0.02000          2.00     0.00%     0.00%     0:00:10     0:00:00 Temperature        Energy    Accept   Improve     Elapsed   Remaining\n",
      "Current file: s03a.txt:  13%|█▎        | 6/46 [03:02<24:50, 37.26s/it] Temperature        Energy    Accept   Improve     Elapsed   Remaining\n",
      "     0.02000          2.00     5.00%     0.00%     0:00:10     0:00:00 Temperature        Energy    Accept   Improve     Elapsed   Remaining\n",
      "     0.02000          2.00     3.00%     0.00%     0:00:10     0:00:00 Temperature        Energy    Accept   Improve     Elapsed   Remaining\n",
      "     0.02000          2.00     3.00%     0.00%     0:00:10     0:00:00 Temperature        Energy    Accept   Improve     Elapsed   Remaining\n",
      "Current file: s04c.txt:  15%|█▌        | 7/46 [03:39<24:03, 37.00s/it] Temperature        Energy    Accept   Improve     Elapsed   Remaining\n",
      "     0.02000          3.00     3.00%     0.00%     0:00:10     0:00:00 Temperature        Energy    Accept   Improve     Elapsed   Remaining\n",
      "     0.02000          2.00     2.00%     0.00%     0:00:10     0:00:00 Temperature        Energy    Accept   Improve     Elapsed   Remaining\n",
      "     0.02000          2.00     0.00%     0.00%     0:00:10     0:00:00 Temperature        Energy    Accept   Improve     Elapsed   Remaining\n",
      "     0.02000          4.00    10.00%     0.00%     0:00:10     0:00:00 Temperature        Energy    Accept   Improve     Elapsed   Remaining\n",
      "     0.02000          2.00     0.00%     0.00%     0:00:10     0:00:00 Temperature        Energy    Accept   Improve     Elapsed   Remaining\n",
      "     0.02000          2.00     0.00%     0.00%     0:00:10     0:00:00 Temperature        Energy    Accept   Improve     Elapsed   Remaining\n",
      "     0.02000          2.00     3.00%     0.00%     0:00:11     0:00:00 Temperature        Energy    Accept   Improve     Elapsed   Remaining\n",
      "     0.02000          2.00     4.00%     0.00%     0:00:11     0:00:00 Temperature        Energy    Accept   Improve     Elapsed   Remaining\n",
      "     0.02000          2.00     0.00%     0.00%     0:00:10     0:00:00 Temperature        Energy    Accept   Improve     Elapsed   Remaining\n",
      "Current file: s05b.txt:  17%|█▋        | 8/46 [05:20<36:27, 57.58s/it] Temperature        Energy    Accept   Improve     Elapsed   Remaining\n",
      "     0.02000          2.00     1.00%     0.00%     0:00:10     0:00:00 Temperature        Energy    Accept   Improve     Elapsed   Remaining\n",
      "     0.02000          2.00     4.00%     0.00%     0:00:10     0:00:00 Temperature        Energy    Accept   Improve     Elapsed   Remaining\n",
      "     0.02000          2.00     1.00%     0.00%     0:00:10     0:00:00 Temperature        Energy    Accept   Improve     Elapsed   Remaining\n",
      "Current file: s11b.txt:  20%|█▉        | 9/46 [05:54<30:59, 50.26s/it] Temperature        Energy    Accept   Improve     Elapsed   Remaining\n",
      "     0.02000          2.00     0.00%     0.00%     0:00:09     0:00:00 Temperature        Energy    Accept   Improve     Elapsed   Remaining\n",
      "Current file: s13b.txt:  22%|██▏       | 10/46 [06:09<23:34, 39.28s/it] Temperature        Energy    Accept   Improve     Elapsed   Remaining\n",
      "Current file: s08c.txt:  24%|██▍       | 11/46 [06:15<16:54, 28.99s/it] Temperature        Energy    Accept   Improve     Elapsed   Remaining\n",
      "     0.02000          2.00     1.00%     0.00%     0:00:09     0:00:00 Temperature        Energy    Accept   Improve     Elapsed   Remaining\n",
      "     0.02000          4.00     1.00%     0.00%     0:00:09     0:00:00 Temperature        Energy    Accept   Improve     Elapsed   Remaining\n",
      "     0.02000          2.00     0.00%     0.00%     0:00:09     0:00:00 Temperature        Energy    Accept   Improve     Elapsed   Remaining\n",
      "     0.02000          2.00     2.00%     0.00%     0:00:09     0:00:00 Temperature        Energy    Accept   Improve     Elapsed   Remaining\n",
      "     0.02000          2.00     3.00%     0.00%     0:00:10     0:00:00 Temperature        Energy    Accept   Improve     Elapsed   Remaining\n",
      "Current file: s12a.txt:  26%|██▌       | 12/46 [07:08<20:40, 36.48s/it] Temperature        Energy    Accept   Improve     Elapsed   Remaining\n",
      "     0.02000          2.00     0.00%     0.00%     0:00:09     0:00:00 Temperature        Energy    Accept   Improve     Elapsed   Remaining\n",
      "     0.02000          2.00     0.00%     0.00%     0:00:09     0:00:00 Temperature        Energy    Accept   Improve     Elapsed   Remaining\n",
      "     0.02000          2.00     0.00%     0.00%     0:00:09     0:00:00 Temperature        Energy    Accept   Improve     Elapsed   Remaining\n",
      "     0.02000          2.00     6.00%     0.00%     0:00:09     0:00:00 Temperature        Energy    Accept   Improve     Elapsed   Remaining\n",
      "     0.02000          2.00     0.00%     0.00%     0:00:09     0:00:00 Temperature        Energy    Accept   Improve     Elapsed   Remaining\n",
      "     0.02000          2.00     0.00%     0.00%     0:00:09     0:00:00 Temperature        Energy    Accept   Improve     Elapsed   Remaining\n",
      "     0.02000          4.00     0.00%     0.00%     0:00:09     0:00:00 Temperature        Energy    Accept   Improve     Elapsed   Remaining\n",
      "     0.02000          2.00     3.00%     0.00%     0:00:09     0:00:00 Temperature        Energy    Accept   Improve     Elapsed   Remaining\n",
      "     0.02000          3.00     0.00%     0.00%     0:00:09     0:00:00 Temperature        Energy    Accept   Improve     Elapsed   Remaining\n",
      "Current file: s12c.txt:  28%|██▊       | 13/46 [08:40<29:11, 53.07s/it] Temperature        Energy    Accept   Improve     Elapsed   Remaining\n",
      "     0.02000          2.00     2.00%     0.00%     0:00:10     0:00:00 Temperature        Energy    Accept   Improve     Elapsed   Remaining\n",
      "     0.02000          2.00     0.00%     0.00%     0:00:09     0:00:00 Temperature        Energy    Accept   Improve     Elapsed   Remaining\n",
      "     0.02000          2.00     0.00%     0.00%     0:00:09     0:00:00 Temperature        Energy    Accept   Improve     Elapsed   Remaining\n",
      "     0.02000          4.00     1.00%     0.00%     0:00:09     0:00:00 Temperature        Energy    Accept   Improve     Elapsed   Remaining\n",
      "     0.02000          2.00     0.00%     0.00%     0:00:09     0:00:00 Temperature        Energy    Accept   Improve     Elapsed   Remaining\n",
      "     0.02000          2.00     0.00%     0.00%     0:00:09     0:00:00 Temperature        Energy    Accept   Improve     Elapsed   Remaining\n",
      "     0.02000          2.00     0.00%     0.00%     0:00:09     0:00:00 Temperature        Energy    Accept   Improve     Elapsed   Remaining\n",
      "     0.02000          2.00     2.00%     0.00%     0:00:09     0:00:00 Temperature        Energy    Accept   Improve     Elapsed   Remaining\n",
      "     0.02000          2.00     0.00%     0.00%     0:00:09     0:00:00 Temperature        Energy    Accept   Improve     Elapsed   Remaining\n",
      "Current file: s13c.txt:  30%|███       | 14/46 [10:13<34:49, 65.30s/it] Temperature        Energy    Accept   Improve     Elapsed   Remaining\n",
      "Current file: s15b.txt:  33%|███▎      | 15/46 [10:19<24:32, 47.49s/it] Temperature        Energy    Accept   Improve     Elapsed   Remaining\n",
      "     0.02000          2.00     1.00%     0.00%     0:00:10     0:00:00 Temperature        Energy    Accept   Improve     Elapsed   Remaining\n",
      "     0.02000          2.00     2.00%     0.00%     0:00:11     0:00:00 Temperature        Energy    Accept   Improve     Elapsed   Remaining\n",
      "     0.02000          2.00     0.00%     0.00%     0:00:10     0:00:00 Temperature        Energy    Accept   Improve     Elapsed   Remaining\n",
      "     0.02000          2.00     3.00%     0.00%     0:00:10     0:00:00 Temperature        Energy    Accept   Improve     Elapsed   Remaining\n",
      "Current file: s09c.txt:  35%|███▍      | 16/46 [11:09<24:08, 48.29s/it] Temperature        Energy    Accept   Improve     Elapsed   Remaining\n",
      "     0.02000          2.00     0.00%     0.00%     0:00:10     0:00:00 Temperature        Energy    Accept   Improve     Elapsed   Remaining\n",
      "     0.02000          2.00     2.00%     0.00%     0:00:10     0:00:00 Temperature        Energy    Accept   Improve     Elapsed   Remaining\n",
      "     0.02000          2.00     1.00%     0.00%     0:00:10     0:00:00 Temperature        Energy    Accept   Improve     Elapsed   Remaining\n",
      "     0.02000          4.00     2.00%     0.00%     0:00:11     0:00:00 Temperature        Energy    Accept   Improve     Elapsed   Remaining\n",
      "     0.02000          2.00     1.00%     0.00%     0:00:10     0:00:00 Temperature        Energy    Accept   Improve     Elapsed   Remaining\n",
      "     0.02000          6.00     2.00%     0.00%     0:00:10     0:00:00 Temperature        Energy    Accept   Improve     Elapsed   Remaining\n",
      "     0.02000          3.00     2.00%     0.00%     0:00:10     0:00:00 Temperature        Energy    Accept   Improve     Elapsed   Remaining\n",
      "     0.02000          2.00     3.00%     0.00%     0:00:10     0:00:00 Temperature        Energy    Accept   Improve     Elapsed   Remaining\n",
      "Current file: s07c.txt:  37%|███▋      | 17/46 [12:36<28:50, 59.68s/it] Temperature        Energy    Accept   Improve     Elapsed   Remaining\n",
      "     0.02000          4.00     2.00%     0.00%     0:00:10     0:00:00 Temperature        Energy    Accept   Improve     Elapsed   Remaining\n",
      "     0.02000          3.00     0.00%     0.00%     0:00:11     0:00:00 Temperature        Energy    Accept   Improve     Elapsed   Remaining\n",
      "Current file: s08a.txt:  39%|███▉      | 18/46 [13:04<23:26, 50.22s/it] Temperature        Energy    Accept   Improve     Elapsed   Remaining\n",
      "     0.02000          3.00     2.00%     0.00%     0:00:09     0:00:00 Temperature        Energy    Accept   Improve     Elapsed   Remaining\n",
      "     0.02000          3.00     0.00%     0.00%     0:00:10     0:00:00 Temperature        Energy    Accept   Improve     Elapsed   Remaining\n",
      "     0.02000          4.00     3.00%     0.00%     0:00:10     0:00:00 Temperature        Energy    Accept   Improve     Elapsed   Remaining\n",
      "     0.02000          2.00     0.00%     0.00%     0:00:11     0:00:00 Temperature        Energy    Accept   Improve     Elapsed   Remaining\n",
      "     0.02000          2.00     2.00%     0.00%     0:00:10     0:00:00 Temperature        Energy    Accept   Improve     Elapsed   Remaining\n",
      "     0.02000          2.00     1.00%     0.00%     0:00:10     0:00:00 Temperature        Energy    Accept   Improve     Elapsed   Remaining\n",
      "     0.02000          3.00     0.00%     0.00%     0:00:10     0:00:00 Temperature        Energy    Accept   Improve     Elapsed   Remaining\n",
      "     0.02000          4.00     1.00%     0.00%     0:00:09     0:00:00 Temperature        Energy    Accept   Improve     Elapsed   Remaining\n",
      "     0.02000          2.00     0.00%     0.00%     0:00:09     0:00:00 Temperature        Energy    Accept   Improve     Elapsed   Remaining\n",
      "Current file: s04b.txt:  41%|████▏     | 19/46 [14:41<28:52, 64.18s/it] Temperature        Energy    Accept   Improve     Elapsed   Remaining\n",
      "     0.02000          4.00     4.00%     0.00%     0:00:09     0:00:00 Temperature        Energy    Accept   Improve     Elapsed   Remaining\n",
      "     0.02000          2.00     2.00%     0.00%     0:00:09     0:00:00 Temperature        Energy    Accept   Improve     Elapsed   Remaining\n",
      "     0.02000          2.00     0.00%     0.00%     0:00:09     0:00:00 Temperature        Energy    Accept   Improve     Elapsed   Remaining\n",
      "     0.02000          2.00     0.00%     0.00%     0:00:09     0:00:00 Temperature        Energy    Accept   Improve     Elapsed   Remaining\n",
      "     0.02000          2.00     3.00%     0.00%     0:00:09     0:00:00 Temperature        Energy    Accept   Improve     Elapsed   Remaining\n",
      "     0.02000          2.00     1.00%     0.00%     0:00:09     0:00:00 Temperature        Energy    Accept   Improve     Elapsed   Remaining\n",
      "     0.02000          2.00     1.00%     0.00%     0:00:09     0:00:00 Temperature        Energy    Accept   Improve     Elapsed   Remaining\n",
      "     0.02000          2.00     0.00%     0.00%     0:00:09     0:00:00 Temperature        Energy    Accept   Improve     Elapsed   Remaining\n",
      "     0.02000          2.00     1.00%     0.00%     0:00:09     0:00:00 Temperature        Energy    Accept   Improve     Elapsed   Remaining\n",
      "Current file: s06c.txt:  43%|████▎     | 20/46 [16:13<31:31, 72.76s/it] Temperature        Energy    Accept   Improve     Elapsed   Remaining\n",
      "Current file: s10c.txt:  46%|████▌     | 21/46 [16:17<21:44, 52.18s/it] Temperature        Energy    Accept   Improve     Elapsed   Remaining\n",
      "Current file: s05c.txt:  48%|████▊     | 22/46 [16:22<15:12, 38.01s/it] Temperature        Energy    Accept   Improve     Elapsed   Remaining\n",
      "     0.02000          2.00     0.00%     0.00%     0:00:09     0:00:00 Temperature        Energy    Accept   Improve     Elapsed   Remaining\n",
      "     0.02000          2.00     2.00%     0.00%     0:00:09     0:00:00 Temperature        Energy    Accept   Improve     Elapsed   Remaining\n",
      "     0.02000          2.00     1.00%     0.00%     0:00:09     0:00:00 Temperature        Energy    Accept   Improve     Elapsed   Remaining\n",
      "     0.02000          2.00     1.00%     0.00%     0:00:09     0:00:00 Temperature        Energy    Accept   Improve     Elapsed   Remaining\n",
      "Current file: s06b.txt:  50%|█████     | 23/46 [17:07<15:16, 39.84s/it] Temperature        Energy    Accept   Improve     Elapsed   Remaining\n",
      "Current file: s04a.txt:  52%|█████▏    | 24/46 [17:11<10:44, 29.28s/it] Temperature        Energy    Accept   Improve     Elapsed   Remaining\n",
      "Current file: s15c.txt:  54%|█████▍    | 25/46 [17:16<07:38, 21.84s/it] Temperature        Energy    Accept   Improve     Elapsed   Remaining\n",
      "     0.02000          2.00     0.00%     0.00%     0:00:09     0:00:00 Temperature        Energy    Accept   Improve     Elapsed   Remaining\n",
      "     0.02000          2.00     1.00%     0.00%     0:00:09     0:00:00 Temperature        Energy    Accept   Improve     Elapsed   Remaining\n",
      "     0.02000          2.00     1.00%     0.00%     0:00:09     0:00:00 Temperature        Energy    Accept   Improve     Elapsed   Remaining\n",
      "     0.02000          2.00     0.00%     0.00%     0:00:09     0:00:00 Temperature        Energy    Accept   Improve     Elapsed   Remaining\n",
      "     0.02000          4.00     2.00%     0.00%     0:00:09     0:00:00 Temperature        Energy    Accept   Improve     Elapsed   Remaining\n",
      "     0.02000          2.00     0.00%     0.00%     0:00:09     0:00:00 Temperature        Energy    Accept   Improve     Elapsed   Remaining\n",
      "     0.02000          2.00     2.00%     0.00%     0:00:09     0:00:00 Temperature        Energy    Accept   Improve     Elapsed   Remaining\n",
      "     0.02000          2.00     0.00%     0.00%     0:00:09     0:00:00 Temperature        Energy    Accept   Improve     Elapsed   Remaining\n",
      "     0.02000          2.00     0.00%     0.00%     0:00:09     0:00:00 Temperature        Energy    Accept   Improve     Elapsed   Remaining\n",
      "Current file: s03b.txt:  57%|█████▋    | 26/46 [18:47<14:13, 42.65s/it] Temperature        Energy    Accept   Improve     Elapsed   Remaining\n",
      "Current file: s14c.txt:  59%|█████▊    | 27/46 [18:52<09:56, 31.41s/it] Temperature        Energy    Accept   Improve     Elapsed   Remaining\n",
      "     0.02000          2.00     4.00%     0.00%     0:00:10     0:00:00 Temperature        Energy    Accept   Improve     Elapsed   Remaining\n",
      "Current file: s16.txt:  61%|██████    | 28/46 [19:07<07:57, 26.51s/it]  Temperature        Energy    Accept   Improve     Elapsed   Remaining\n",
      "     0.02000          2.00     3.00%     0.00%     0:00:09     0:00:00 Temperature        Energy    Accept   Improve     Elapsed   Remaining\n",
      "     0.02000          2.00     2.00%     0.00%     0:00:09     0:00:00 Temperature        Energy    Accept   Improve     Elapsed   Remaining\n",
      "     0.02000          3.00     0.00%     0.00%     0:00:09     0:00:00 Temperature        Energy    Accept   Improve     Elapsed   Remaining\n",
      "     0.02000          5.00     1.00%     0.00%     0:00:09     0:00:00 Temperature        Energy    Accept   Improve     Elapsed   Remaining\n",
      "     0.02000          2.00     3.00%     0.00%     0:00:09     0:00:00 Temperature        Energy    Accept   Improve     Elapsed   Remaining\n",
      "     0.02000          2.00     1.00%     0.00%     0:00:09     0:00:00 Temperature        Energy    Accept   Improve     Elapsed   Remaining\n",
      "     0.02000          2.00     0.00%     0.00%     0:00:09     0:00:00 Temperature        Energy    Accept   Improve     Elapsed   Remaining\n",
      "     0.02000          3.00     2.00%     0.00%     0:00:09     0:00:00 Temperature        Energy    Accept   Improve     Elapsed   Remaining\n",
      "Current file: s02b.txt:  63%|██████▎   | 29/46 [20:26<11:57, 42.23s/it] Temperature        Energy    Accept   Improve     Elapsed   Remaining\n",
      "Current file: s09b.txt:  65%|██████▌   | 30/46 [20:32<08:23, 31.46s/it] Temperature        Energy    Accept   Improve     Elapsed   Remaining\n",
      "     0.02000          2.00     0.00%     0.00%     0:00:09     0:00:00 Temperature        Energy    Accept   Improve     Elapsed   Remaining\n",
      "     0.02000          2.00     1.00%     0.00%     0:00:09     0:00:00 Temperature        Energy    Accept   Improve     Elapsed   Remaining\n",
      "     0.02000          2.00     2.00%     0.00%     0:00:09     0:00:00 Temperature        Energy    Accept   Improve     Elapsed   Remaining\n",
      "     0.02000          4.00     3.00%     0.00%     0:00:09     0:00:00 Temperature        Energy    Accept   Improve     Elapsed   Remaining\n",
      "     0.02000          2.00     2.00%     0.00%     0:00:09     0:00:00 Temperature        Energy    Accept   Improve     Elapsed   Remaining\n",
      "     0.02000          4.00     4.00%     0.00%     0:00:09     0:00:00 Temperature        Energy    Accept   Improve     Elapsed   Remaining\n",
      "     0.02000          2.00     1.00%     0.00%     0:00:09     0:00:00 Temperature        Energy    Accept   Improve     Elapsed   Remaining\n",
      "     0.02000          2.00     1.00%     0.00%     0:00:09     0:00:00 Temperature        Energy    Accept   Improve     Elapsed   Remaining\n",
      "     0.02000          2.00     6.00%     0.00%     0:00:09     0:00:00 Temperature        Energy    Accept   Improve     Elapsed   Remaining\n",
      "Current file: s14a.txt:  67%|██████▋   | 31/46 [22:04<12:20, 49.37s/it] Temperature        Energy    Accept   Improve     Elapsed   Remaining\n",
      "     0.02000          2.00     2.00%     0.00%     0:00:10     0:00:00 Temperature        Energy    Accept   Improve     Elapsed   Remaining\n",
      "Current file: s01b.txt:  70%|██████▉   | 32/46 [22:20<09:14, 39.62s/it] Temperature        Energy    Accept   Improve     Elapsed   Remaining\n",
      "Current file: s06a.txt:  72%|███████▏  | 33/46 [22:25<06:18, 29.09s/it] Temperature        Energy    Accept   Improve     Elapsed   Remaining\n",
      "Current file: s10b.txt:  74%|███████▍  | 34/46 [22:30<04:22, 21.90s/it] Temperature        Energy    Accept   Improve     Elapsed   Remaining\n",
      "Current file: s02a.txt:  76%|███████▌  | 35/46 [22:35<03:04, 16.78s/it] Temperature        Energy    Accept   Improve     Elapsed   Remaining\n",
      "Current file: s14b.txt:  78%|███████▊  | 36/46 [22:40<02:12, 13.26s/it] Temperature        Energy    Accept   Improve     Elapsed   Remaining\n",
      "Current file: s07a.txt:  80%|████████  | 37/46 [22:46<01:39, 11.03s/it] Temperature        Energy    Accept   Improve     Elapsed   Remaining\n",
      "     0.02000          5.00     1.00%     0.00%     0:00:09     0:00:00 Temperature        Energy    Accept   Improve     Elapsed   Remaining\n",
      "     0.02000          4.00     2.00%     0.00%     0:00:09     0:00:00 Temperature        Energy    Accept   Improve     Elapsed   Remaining\n",
      "Current file: s10a.txt:  83%|████████▎ | 38/46 [23:10<02:01, 15.13s/it] Temperature        Energy    Accept   Improve     Elapsed   Remaining\n",
      "Current file: s03c.txt:  85%|████████▍ | 39/46 [23:16<01:26, 12.33s/it] Temperature        Energy    Accept   Improve     Elapsed   Remaining\n",
      "     0.02000          2.00     0.00%     0.00%     0:00:09     0:00:00 Temperature        Energy    Accept   Improve     Elapsed   Remaining\n",
      "     0.02000          2.00     2.00%     0.00%     0:00:10     0:00:00 Temperature        Energy    Accept   Improve     Elapsed   Remaining\n",
      "Current file: s02c.txt:  87%|████████▋ | 40/46 [23:41<01:36, 16.08s/it] Temperature        Energy    Accept   Improve     Elapsed   Remaining\n",
      "Current file: s05a.txt:  89%|████████▉ | 41/46 [23:46<01:03, 12.78s/it] Temperature        Energy    Accept   Improve     Elapsed   Remaining\n",
      "     0.02000          2.00     2.00%     0.00%     0:00:10     0:00:00 Temperature        Energy    Accept   Improve     Elapsed   Remaining\n",
      "     0.02000          2.00     0.00%     0.00%     0:00:10     0:00:00 Temperature        Energy    Accept   Improve     Elapsed   Remaining\n",
      "Current file: s11a.txt:  91%|█████████▏| 42/46 [24:11<01:06, 16.53s/it] Temperature        Energy    Accept   Improve     Elapsed   Remaining\n",
      "     0.02000          2.00     5.00%     0.00%     0:00:10     0:00:00 Temperature        Energy    Accept   Improve     Elapsed   Remaining\n",
      "Current file: s01a.txt:  93%|█████████▎| 43/46 [24:28<00:49, 16.53s/it] Temperature        Energy    Accept   Improve     Elapsed   Remaining\n",
      "Current file: s07b.txt:  96%|█████████▌| 44/46 [24:33<00:26, 13.16s/it] Temperature        Energy    Accept   Improve     Elapsed   Remaining\n",
      "     0.02000          2.00     0.00%     0.00%     0:00:09     0:00:00 Temperature        Energy    Accept   Improve     Elapsed   Remaining\n",
      "     0.02000          2.00     0.00%     0.00%     0:00:09     0:00:00 Temperature        Energy    Accept   Improve     Elapsed   Remaining\n",
      "     0.02000          2.00     1.00%     0.00%     0:00:09     0:00:00 Temperature        Energy    Accept   Improve     Elapsed   Remaining\n",
      "Current file: s09a.txt:  98%|█████████▊| 45/46 [25:07<00:19, 19.19s/it] Temperature        Energy    Accept   Improve     Elapsed   Remaining\n",
      "     0.02000          2.00     1.00%     0.00%     0:00:09     0:00:00 Temperature        Energy    Accept   Improve     Elapsed   Remaining\n",
      "     0.02000          2.00     0.00%     0.00%     0:00:09     0:00:00 Temperature        Energy    Accept   Improve     Elapsed   Remaining\n",
      "     0.02000          3.00     4.00%     0.00%     0:00:09     0:00:00 Temperature        Energy    Accept   Improve     Elapsed   Remaining\n",
      "     0.02000          2.00     1.00%     0.00%     0:00:09     0:00:00 Temperature        Energy    Accept   Improve     Elapsed   Remaining\n",
      "     0.02000          2.00     0.00%     0.00%     0:00:09     0:00:00 Temperature        Energy    Accept   Improve     Elapsed   Remaining\n",
      "     0.02000          3.00     3.00%     0.00%     0:00:09     0:00:00 Temperature        Energy    Accept   Improve     Elapsed   Remaining\n",
      "     0.02000          2.00     0.00%     0.00%     0:00:09     0:00:00 Temperature        Energy    Accept   Improve     Elapsed   Remaining\n",
      "     0.02000          2.00     3.00%     0.00%     0:00:09     0:00:00 Temperature        Energy    Accept   Improve     Elapsed   Remaining\n",
      "     0.02000          2.00     3.00%     0.00%     0:00:09     0:00:00 Temperature        Energy    Accept   Improve     Elapsed   Remaining\n",
      "Current file: s09a.txt: 100%|██████████| 46/46 [26:39<00:00, 34.78s/it]\n"
     ]
    }
   ],
   "source": [
    "scores, solved = get_data('sudoku/tasks', tmax=10, tmin=0.02, max_trials=10)"
   ]
  },
  {
   "cell_type": "code",
   "execution_count": 271,
   "id": "invalid-comparison",
   "metadata": {},
   "outputs": [
    {
     "name": "stdout",
     "output_type": "stream",
     "text": [
      "Success rate 82.61%\n"
     ]
    }
   ],
   "source": [
    "print('Success rate {:.2f}%'.format(100 * (np.sum(solved) / len(solved))))"
   ]
  },
  {
   "cell_type": "code",
   "execution_count": 272,
   "id": "quantitative-vegetation",
   "metadata": {},
   "outputs": [],
   "source": [
    "times = {\n",
    "    key: np.mean(val)\n",
    "    for key, val in scores.items()\n",
    "}"
   ]
  },
  {
   "cell_type": "code",
   "execution_count": 273,
   "id": "solar-nickel",
   "metadata": {},
   "outputs": [
    {
     "data": {
      "text/plain": [
       "Text(0, 0.5, 'Liczba iteracji')"
      ]
     },
     "execution_count": 273,
     "metadata": {},
     "output_type": "execute_result"
    },
    {
     "data": {
      "image/png": "[encoded data removed]",
      "text/plain": [
       "<Figure size 432x288 with 1 Axes>"
      ]
     },
     "metadata": {
      "needs_background": "light"
     },
     "output_type": "display_data"
    }
   ],
   "source": [
    "plt.bar(times.keys(), times.values())\n",
    "plt.xlabel('Liczba pustych pól na wejściu')\n",
    "plt.ylabel('Liczba iteracji')"
   ]
  },
  {
   "cell_type": "code",
   "execution_count": 274,
   "id": "improved-palestinian",
   "metadata": {},
   "outputs": [
    {
     "name": "stdout",
     "output_type": "stream",
     "text": [
      "Map: s01a.txt solved: YES\n",
      "Map: s01b.txt solved: YES\n",
      "Map: s01c.txt solved: YES\n",
      "Map: s02a.txt solved: YES\n",
      "Map: s02b.txt solved: YES\n",
      "Map: s02c.txt solved: YES\n",
      "Map: s03a.txt solved: YES\n",
      "Map: s03b.txt solved: YES\n",
      "Map: s03c.txt solved: YES\n",
      "Map: s04a.txt solved: YES\n",
      "Map: s04b.txt solved: NO\n",
      "Map: s04c.txt solved: NO\n",
      "Map: s05a.txt solved: YES\n",
      "Map: s05b.txt solved: YES\n",
      "Map: s05c.txt solved: YES\n",
      "Map: s06a.txt solved: YES\n",
      "Map: s06b.txt solved: YES\n",
      "Map: s06c.txt solved: YES\n",
      "Map: s07a.txt solved: YES\n",
      "Map: s07b.txt solved: YES\n",
      "Map: s07c.txt solved: YES\n",
      "Map: s08a.txt solved: NO\n",
      "Map: s08b.txt solved: YES\n",
      "Map: s08c.txt solved: YES\n",
      "Map: s09a.txt solved: NO\n",
      "Map: s09b.txt solved: NO\n",
      "Map: s09c.txt solved: YES\n",
      "Map: s10a.txt solved: YES\n",
      "Map: s10b.txt solved: YES\n",
      "Map: s10c.txt solved: YES\n",
      "Map: s11a.txt solved: YES\n",
      "Map: s11b.txt solved: YES\n",
      "Map: s11c.txt solved: YES\n",
      "Map: s12a.txt solved: NO\n",
      "Map: s12b.txt solved: YES\n",
      "Map: s12c.txt solved: NO\n",
      "Map: s13a.txt solved: YES\n",
      "Map: s13b.txt solved: YES\n",
      "Map: s13c.txt solved: YES\n",
      "Map: s14a.txt solved: YES\n",
      "Map: s14b.txt solved: YES\n",
      "Map: s14c.txt solved: YES\n",
      "Map: s15a.txt solved: YES\n",
      "Map: s15b.txt solved: YES\n",
      "Map: s15c.txt solved: NO\n",
      "Map: s16.txt solved: YES\n"
     ]
    }
   ],
   "source": [
    "files = os.listdir('sudoku/tasks')\n",
    "data = [(status, file) for status, file in zip(solved, files)]\n",
    "sorteddata = sorted(data, key=lambda item: item[1])\n",
    "for status, file in sorteddata:\n",
    "    print(f'Map: {file} solved: {\"YES\" if status else \"NO\"}')"
   ]
  }
 ],
 "metadata": {
  "kernelspec": {
   "display_name": "Python 3.9.3 64-bit",
   "language": "python",
   "name": "python393jvsc74a57bd0767d51c1340bd893661ea55ea3124f6de3c7a262a8b4abca0554b478b1e2ff90"
  },
  "language_info": {
   "codemirror_mode": {
    "name": "ipython",
    "version": 3
   },
   "file_extension": ".py",
   "mimetype": "text/x-python",
   "name": "python",
   "nbconvert_exporter": "python",
   "pygments_lexer": "ipython3",
   "version": "3.9.4"
  }
 },
 "nbformat": 4,
 "nbformat_minor": 5
}