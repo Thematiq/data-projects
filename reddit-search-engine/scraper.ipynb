{
 "cells": [
  {
   "cell_type": "markdown",
   "id": "c9cf32f7",
   "metadata": {
    "tags": []
   },
   "source": [
    "# Reddit text posts crawler\n",
    "\n",
    "[Based on a Python Reddit API Wrapper](https://praw.readthedocs.io/en/latest/)"
   ]
  },
  {
   "cell_type": "code",
   "execution_count": 1,
   "id": "115c27bd",
   "metadata": {},
   "outputs": [],
   "source": [
    "import praw\n",
    "import json\n",
    "import pickle\n",
    "import numpy as np\n",
    "import pandas as pd\n",
    "import scipy.sparse as sparse\n",
    "from tqdm import tqdm, trange\n",
    "import seaborn as sns\n",
    "import matplotlib\n",
    "import matplotlib.pyplot as plt\n",
    "from sklearn.preprocessing import normalize"
   ]
  },
  {
   "cell_type": "code",
   "execution_count": 2,
   "id": "b9035bc0",
   "metadata": {},
   "outputs": [],
   "source": [
    "tqdm.pandas()"
   ]
  },
  {
   "cell_type": "markdown",
   "id": "abcfbdf4",
   "metadata": {},
   "source": [
    "All reddit app secrets are stored in the `secrets.json`. You can get the credentials [here](https://www.reddit.com/prefs/apps)"
   ]
  },
  {
   "cell_type": "code",
   "execution_count": 3,
   "id": "8457bdab",
   "metadata": {},
   "outputs": [],
   "source": [
    "with open('secrets.json', 'r') as f:\n",
    "    creds = json.loads(f.read())"
   ]
  },
  {
   "cell_type": "code",
   "execution_count": 4,
   "id": "3ebab826",
   "metadata": {},
   "outputs": [],
   "source": [
    "scrapper = praw.Reddit(**creds)"
   ]
  },
  {
   "cell_type": "code",
   "execution_count": 5,
   "id": "5376a501",
   "metadata": {},
   "outputs": [],
   "source": [
    "sub_controller = praw.models.Subreddits(scrapper, None)\n",
    "subreddits = list(sub_controller.popular(limit=1000))"
   ]
  },
  {
   "cell_type": "code",
   "execution_count": 6,
   "id": "84657748",
   "metadata": {},
   "outputs": [
    {
     "data": {
      "text/plain": [
       "1000"
      ]
     },
     "execution_count": 6,
     "metadata": {},
     "output_type": "execute_result"
    }
   ],
   "source": [
    "len(subreddits)"
   ]
  },
  {
   "cell_type": "code",
   "execution_count": 8,
   "id": "6fbdceef",
   "metadata": {},
   "outputs": [],
   "source": [
    "with open('subreddits.txt', 'w') as f:\n",
    "    for subreddit in subreddits:\n",
    "        if subreddit.over18:\n",
    "            continue\n",
    "        f.write(f'{subreddit.display_name}\\n')"
   ]
  },
  {
   "cell_type": "code",
   "execution_count": 9,
   "id": "ed566954",
   "metadata": {},
   "outputs": [],
   "source": [
    "subreddits = []\n",
    "with open('subreddits.txt', 'r') as f:\n",
    "    for line in f:\n",
    "        line = line.replace('\\n', '')\n",
    "        if len(line) == 0:\n",
    "            continue    \n",
    "        subreddits.append(praw.models.Subreddit(scrapper, display_name=line))"
   ]
  },
  {
   "cell_type": "code",
   "execution_count": 11,
   "id": "d8168010",
   "metadata": {},
   "outputs": [
    {
     "name": "stderr",
     "output_type": "stream",
     "text": [
      "Current number of scraped posts: 65001 / 65000:  55%|█████▍    | 520/950 [1:35:36<1:19:03, 11.03s/it]\n"
     ]
    }
   ],
   "source": [
    "pbar = tqdm(subreddits)\n",
    "posts = []\n",
    "DESIRED = 65000\n",
    "flag = False\n",
    "\n",
    "for subreddit in pbar:\n",
    "    subreddit_name = subreddit.display_name\n",
    "    for post in subreddit.top(\"all\", limit=500):\n",
    "        if post.over_18:\n",
    "            continue\n",
    "        text = post.selftext\n",
    "        if text is None or len(text) == 0:\n",
    "            continue\n",
    "        posts.append([ \n",
    "            post.title,\n",
    "            post.score,\n",
    "            post.id,\n",
    "            subreddit_name,\n",
    "            post.url,\n",
    "            text,\n",
    "            post.created\n",
    "        ])\n",
    "        pbar.set_description(f'Current number of scraped posts: {len(posts)} / {DESIRED}')\n",
    "        if len(posts) > DESIRED:\n",
    "            flag = True\n",
    "            break\n",
    "    if flag:\n",
    "        break"
   ]
  },
  {
   "cell_type": "code",
   "execution_count": 12,
   "id": "1b418782",
   "metadata": {},
   "outputs": [
    {
     "data": {
      "text/plain": [
       "65001"
      ]
     },
     "execution_count": 12,
     "metadata": {},
     "output_type": "execute_result"
    }
   ],
   "source": [
    "len(posts)"
   ]
  },
  {
   "cell_type": "markdown",
   "id": "bf723137",
   "metadata": {},
   "source": [
    "## Transforming to dataframe"
   ]
  },
  {
   "cell_type": "code",
   "execution_count": 13,
   "id": "334a519b",
   "metadata": {},
   "outputs": [],
   "source": [
    "df = pd.DataFrame(posts, columns=['title', 'score', 'id', 'subreddit', 'url', 'body', 'created'])"
   ]
  },
  {
   "cell_type": "code",
   "execution_count": 14,
   "id": "536a97ce",
   "metadata": {},
   "outputs": [
    {
     "data": {
      "text/html": [
       "<div>\n",
       "<style scoped>\n",
       "    .dataframe tbody tr th:only-of-type {\n",
       "        vertical-align: middle;\n",
       "    }\n",
       "\n",
       "    .dataframe tbody tr th {\n",
       "        vertical-align: top;\n",
       "    }\n",
       "\n",
       "    .dataframe thead th {\n",
       "        text-align: right;\n",
       "    }\n",
       "</style>\n",
       "<table border=\"1\" class=\"dataframe\">\n",
       "  <thead>\n",
       "    <tr style=\"text-align: right;\">\n",
       "      <th></th>\n",
       "      <th>title</th>\n",
       "      <th>score</th>\n",
       "      <th>id</th>\n",
       "      <th>subreddit</th>\n",
       "      <th>url</th>\n",
       "      <th>body</th>\n",
       "      <th>created</th>\n",
       "    </tr>\n",
       "  </thead>\n",
       "  <tbody>\n",
       "    <tr>\n",
       "      <th>0</th>\n",
       "      <td>My roommate is kicking me out because having a...</td>\n",
       "      <td>59</td>\n",
       "      <td>ekplmv</td>\n",
       "      <td>Home</td>\n",
       "      <td>https://www.reddit.com/r/Home/comments/ekplmv/...</td>\n",
       "      <td>So, I am not asking for advice, really...mores...</td>\n",
       "      <td>1.578318e+09</td>\n",
       "    </tr>\n",
       "    <tr>\n",
       "      <th>1</th>\n",
       "      <td>Bought a drug house</td>\n",
       "      <td>46</td>\n",
       "      <td>l3538e</td>\n",
       "      <td>Home</td>\n",
       "      <td>https://www.reddit.com/r/Home/comments/l3538e/...</td>\n",
       "      <td>My fiance and I just bought our first house.  ...</td>\n",
       "      <td>1.611405e+09</td>\n",
       "    </tr>\n",
       "    <tr>\n",
       "      <th>2</th>\n",
       "      <td>Just Bought my First Home</td>\n",
       "      <td>36</td>\n",
       "      <td>m5cuyw</td>\n",
       "      <td>Home</td>\n",
       "      <td>https://www.reddit.com/r/Home/comments/m5cuyw/...</td>\n",
       "      <td>Title says it all: I'm the proud owner of my v...</td>\n",
       "      <td>1.615812e+09</td>\n",
       "    </tr>\n",
       "    <tr>\n",
       "      <th>3</th>\n",
       "      <td>(Poorly disguised) ads are showing up too freq...</td>\n",
       "      <td>33</td>\n",
       "      <td>mmp0vu</td>\n",
       "      <td>Home</td>\n",
       "      <td>https://www.reddit.com/r/Home/comments/mmp0vu/...</td>\n",
       "      <td>I don't know what pushes them up so high, eith...</td>\n",
       "      <td>1.617907e+09</td>\n",
       "    </tr>\n",
       "    <tr>\n",
       "      <th>4</th>\n",
       "      <td>I found a fantastic way to naturally make your...</td>\n",
       "      <td>31</td>\n",
       "      <td>naqif5</td>\n",
       "      <td>Home</td>\n",
       "      <td>https://www.reddit.com/r/Home/comments/naqif5/...</td>\n",
       "      <td>I hope this is the correct subreddit to find s...</td>\n",
       "      <td>1.620860e+09</td>\n",
       "    </tr>\n",
       "  </tbody>\n",
       "</table>\n",
       "</div>"
      ],
      "text/plain": [
       "                                               title  score      id subreddit  \\\n",
       "0  My roommate is kicking me out because having a...     59  ekplmv      Home   \n",
       "1                                Bought a drug house     46  l3538e      Home   \n",
       "2                          Just Bought my First Home     36  m5cuyw      Home   \n",
       "3  (Poorly disguised) ads are showing up too freq...     33  mmp0vu      Home   \n",
       "4  I found a fantastic way to naturally make your...     31  naqif5      Home   \n",
       "\n",
       "                                                 url  \\\n",
       "0  https://www.reddit.com/r/Home/comments/ekplmv/...   \n",
       "1  https://www.reddit.com/r/Home/comments/l3538e/...   \n",
       "2  https://www.reddit.com/r/Home/comments/m5cuyw/...   \n",
       "3  https://www.reddit.com/r/Home/comments/mmp0vu/...   \n",
       "4  https://www.reddit.com/r/Home/comments/naqif5/...   \n",
       "\n",
       "                                                body       created  \n",
       "0  So, I am not asking for advice, really...mores...  1.578318e+09  \n",
       "1  My fiance and I just bought our first house.  ...  1.611405e+09  \n",
       "2  Title says it all: I'm the proud owner of my v...  1.615812e+09  \n",
       "3  I don't know what pushes them up so high, eith...  1.617907e+09  \n",
       "4  I hope this is the correct subreddit to find s...  1.620860e+09  "
      ]
     },
     "execution_count": 14,
     "metadata": {},
     "output_type": "execute_result"
    }
   ],
   "source": [
    "df.head()"
   ]
  },
  {
   "cell_type": "code",
   "execution_count": 15,
   "id": "9382f7b4",
   "metadata": {},
   "outputs": [],
   "source": [
    "df['len'] =  df['body'].apply(len)"
   ]
  },
  {
   "cell_type": "code",
   "execution_count": 16,
   "id": "7b87cc17",
   "metadata": {},
   "outputs": [
    {
     "name": "stdout",
     "output_type": "stream",
     "text": [
      "<class 'pandas.core.frame.DataFrame'>\n",
      "Int64Index: 65001 entries, 0 to 65000\n",
      "Data columns (total 8 columns):\n",
      " #   Column     Non-Null Count  Dtype  \n",
      "---  ------     --------------  -----  \n",
      " 0   title      65001 non-null  object \n",
      " 1   score      65001 non-null  int64  \n",
      " 2   id         65001 non-null  object \n",
      " 3   subreddit  65001 non-null  object \n",
      " 4   url        65001 non-null  object \n",
      " 5   body       65001 non-null  object \n",
      " 6   created    65001 non-null  float64\n",
      " 7   len        65001 non-null  int64  \n",
      "dtypes: float64(1), int64(2), object(5)\n",
      "memory usage: 4.5+ MB\n"
     ]
    }
   ],
   "source": [
    "df[df['len'] > 0].info()"
   ]
  },
  {
   "cell_type": "code",
   "execution_count": 17,
   "id": "7ce1be6f",
   "metadata": {},
   "outputs": [],
   "source": [
    "df.to_csv('large_raw.csv')"
   ]
  },
  {
   "cell_type": "code",
   "execution_count": 3,
   "id": "3820a9ee",
   "metadata": {},
   "outputs": [],
   "source": [
    "df = pd.read_csv('LARGE/raw.csv')"
   ]
  },
  {
   "cell_type": "markdown",
   "id": "8fedb96b",
   "metadata": {},
   "source": [
    "# Transforming database to the corpus"
   ]
  },
  {
   "cell_type": "code",
   "execution_count": 18,
   "id": "9552989e",
   "metadata": {},
   "outputs": [
    {
     "data": {
      "text/plain": [
       "64753"
      ]
     },
     "execution_count": 18,
     "metadata": {},
     "output_type": "execute_result"
    }
   ],
   "source": [
    "len(df['title'].unique())"
   ]
  },
  {
   "cell_type": "code",
   "execution_count": 19,
   "id": "38c546d2",
   "metadata": {},
   "outputs": [
    {
     "data": {
      "text/plain": [
       "65001"
      ]
     },
     "execution_count": 19,
     "metadata": {},
     "output_type": "execute_result"
    }
   ],
   "source": [
    "len(df[['title', 'body']])"
   ]
  },
  {
   "cell_type": "code",
   "execution_count": 4,
   "id": "8f284a4a",
   "metadata": {},
   "outputs": [],
   "source": [
    "corpus = df.drop('score', axis=1)\n",
    "corpus.drop(['url', 'created', 'len'], axis=1, inplace=True)"
   ]
  },
  {
   "cell_type": "code",
   "execution_count": 5,
   "id": "518fc990",
   "metadata": {},
   "outputs": [
    {
     "name": "stdout",
     "output_type": "stream",
     "text": [
      "<class 'pandas.core.frame.DataFrame'>\n",
      "RangeIndex: 65001 entries, 0 to 65000\n",
      "Data columns (total 5 columns):\n",
      " #   Column      Non-Null Count  Dtype \n",
      "---  ------      --------------  ----- \n",
      " 0   Unnamed: 0  65001 non-null  int64 \n",
      " 1   title       65001 non-null  object\n",
      " 2   id          65001 non-null  object\n",
      " 3   subreddit   65001 non-null  object\n",
      " 4   body        65001 non-null  object\n",
      "dtypes: int64(1), object(4)\n",
      "memory usage: 2.5+ MB\n"
     ]
    }
   ],
   "source": [
    "corpus.info()"
   ]
  },
  {
   "cell_type": "code",
   "execution_count": 6,
   "id": "0935cbe0",
   "metadata": {},
   "outputs": [],
   "source": [
    "corpus['content'] = corpus['title'] + ' ' + corpus['subreddit'] + ' ' + corpus['body']"
   ]
  },
  {
   "cell_type": "code",
   "execution_count": 7,
   "id": "8b3ab7a7",
   "metadata": {},
   "outputs": [
    {
     "name": "stdout",
     "output_type": "stream",
     "text": [
      "<class 'pandas.core.frame.DataFrame'>\n",
      "RangeIndex: 65001 entries, 0 to 65000\n",
      "Data columns (total 6 columns):\n",
      " #   Column      Non-Null Count  Dtype \n",
      "---  ------      --------------  ----- \n",
      " 0   Unnamed: 0  65001 non-null  int64 \n",
      " 1   title       65001 non-null  object\n",
      " 2   id          65001 non-null  object\n",
      " 3   subreddit   65001 non-null  object\n",
      " 4   body        65001 non-null  object\n",
      " 5   content     65001 non-null  object\n",
      "dtypes: int64(1), object(5)\n",
      "memory usage: 3.0+ MB\n"
     ]
    }
   ],
   "source": [
    "corpus.info()"
   ]
  },
  {
   "cell_type": "code",
   "execution_count": 8,
   "id": "f4854750",
   "metadata": {},
   "outputs": [],
   "source": [
    "corpus.drop(['body', 'title', 'subreddit'], axis=1, inplace=True)"
   ]
  },
  {
   "cell_type": "code",
   "execution_count": 9,
   "id": "d42e4d33",
   "metadata": {},
   "outputs": [],
   "source": [
    "corpus.to_csv('large_corpus.csv')"
   ]
  },
  {
   "cell_type": "code",
   "execution_count": 10,
   "id": "68c2a81f",
   "metadata": {},
   "outputs": [],
   "source": [
    "corpus['content_size'] = corpus['content'].apply(len)"
   ]
  },
  {
   "cell_type": "code",
   "execution_count": 11,
   "id": "64f24dfe",
   "metadata": {},
   "outputs": [
    {
     "data": {
      "text/plain": [
       "1816.2199043091646"
      ]
     },
     "execution_count": 11,
     "metadata": {},
     "output_type": "execute_result"
    }
   ],
   "source": [
    "corpus['content_size'].mean()"
   ]
  },
  {
   "cell_type": "code",
   "execution_count": 12,
   "id": "c1eab311",
   "metadata": {},
   "outputs": [
    {
     "data": {
      "text/plain": [
       "3081.6067458106922"
      ]
     },
     "execution_count": 12,
     "metadata": {},
     "output_type": "execute_result"
    }
   ],
   "source": [
    "corpus['content_size'].std()"
   ]
  },
  {
   "cell_type": "code",
   "execution_count": 13,
   "id": "20836a67",
   "metadata": {},
   "outputs": [
    {
     "data": {
      "image/png": "[encoded data removed]",
      "text/plain": [
       "<Figure size 432x288 with 1 Axes>"
      ]
     },
     "metadata": {
      "needs_background": "light"
     },
     "output_type": "display_data"
    }
   ],
   "source": [
    "sns.violinplot(x=corpus['content_size'][corpus['content_size'] < 1000])\n",
    "plt.gca().set_title('Amount of letters in the post')\n",
    "plt.gca().set_xlabel('Amount of letters')\n",
    "plt.savefig('corpus_letters')"
   ]
  },
  {
   "cell_type": "code",
   "execution_count": 14,
   "id": "98d76e57",
   "metadata": {},
   "outputs": [],
   "source": [
    "corpus['content_words'] = corpus['content'].apply(lambda x: x.count(' '))"
   ]
  },
  {
   "cell_type": "code",
   "execution_count": 15,
   "id": "c37a1db1",
   "metadata": {},
   "outputs": [
    {
     "data": {
      "text/plain": [
       "300.6569283549484"
      ]
     },
     "execution_count": 15,
     "metadata": {},
     "output_type": "execute_result"
    }
   ],
   "source": [
    "corpus['content_words'].mean()"
   ]
  },
  {
   "cell_type": "code",
   "execution_count": 16,
   "id": "c01ddd36",
   "metadata": {},
   "outputs": [
    {
     "data": {
      "text/plain": [
       "497.26943013439853"
      ]
     },
     "execution_count": 16,
     "metadata": {},
     "output_type": "execute_result"
    }
   ],
   "source": [
    "corpus['content_words'].std()"
   ]
  },
  {
   "cell_type": "code",
   "execution_count": 18,
   "id": "ca036e85",
   "metadata": {},
   "outputs": [
    {
     "data": {
      "image/png": "[encoded data removed]",
      "text/plain": [
       "<Figure size 432x288 with 1 Axes>"
      ]
     },
     "metadata": {
      "needs_background": "light"
     },
     "output_type": "display_data"
    }
   ],
   "source": [
    "sns.violinplot(x=corpus['content_words'])\n",
    "plt.gca().set_title('Rozkład wystąpień słów w postach')\n",
    "plt.gca().set_xlabel('Liczba słów')\n",
    "plt.savefig('corpus_words')"
   ]
  },
  {
   "cell_type": "code",
   "execution_count": 19,
   "id": "c8274d92",
   "metadata": {},
   "outputs": [
    {
     "data": {
      "image/png": "[encoded data removed]",
      "text/plain": [
       "<Figure size 432x288 with 1 Axes>"
      ]
     },
     "metadata": {
      "needs_background": "light"
     },
     "output_type": "display_data"
    }
   ],
   "source": [
    "sns.violinplot(x=corpus['content_words'][corpus['content_words'] < 1000])\n",
    "plt.gca().set_title('Rozkład wystąpień słów w postach o długości miejszej niż 1000 słów')\n",
    "plt.gca().set_xlabel('Liczba słów')\n",
    "plt.savefig('corpus_words_small')"
   ]
  },
  {
   "cell_type": "markdown",
   "id": "5eac06e2",
   "metadata": {},
   "source": [
    "## Text clenaup"
   ]
  },
  {
   "cell_type": "code",
   "execution_count": 3,
   "id": "1cd47ed0",
   "metadata": {},
   "outputs": [],
   "source": [
    "import nltk\n",
    "import emoji\n",
    "import string\n",
    "from collections import Counter\n",
    "from nltk import word_tokenize\n",
    "from nltk.corpus import stopwords\n",
    "from nltk.stem.porter import PorterStemmer"
   ]
  },
  {
   "cell_type": "code",
   "execution_count": 4,
   "id": "0da260cd",
   "metadata": {},
   "outputs": [],
   "source": [
    "def preprocess_text(document, normalize=True, drop_numbers=False, drop_punctuations=True, drop_stopwords=True, stem=True, stop_words=None, drop_potential_links=False, transform_emoji=True, drop_nonascii=True):\n",
    "    if transform_emoji:\n",
    "        document = emoji.demojize(document)\n",
    "    if drop_punctuations:\n",
    "        document = ''.join(char for char in document if char not in string.punctuation)\n",
    "    if drop_numbers:\n",
    "        document = ''.join(char for char in document if char not in string.digits)\n",
    "    if drop_nonascii:\n",
    "        document = document.encode('ascii', errors='ignore').decode()\n",
    "    tokens = word_tokenize(document)\n",
    "    if stem:\n",
    "        porter = PorterStemmer()\n",
    "        tokens = [porter.stem(token) for token in tokens]\n",
    "    if drop_stopwords:\n",
    "        if stop_words is None:\n",
    "            stop_words = stopwords.words('english')\n",
    "        tokens = [token for token in tokens if token not in stop_words]\n",
    "    if drop_potential_links:\n",
    "        tokens = list(filter(lambda x : 'http' not in x, tokens))\n",
    "    return tokens"
   ]
  },
  {
   "cell_type": "code",
   "execution_count": 3,
   "id": "0b125543",
   "metadata": {},
   "outputs": [],
   "source": [
    "corpus = pd.read_csv('LARGE/corpus.csv')"
   ]
  },
  {
   "cell_type": "code",
   "execution_count": 11,
   "id": "4bee13da",
   "metadata": {},
   "outputs": [
    {
     "name": "stderr",
     "output_type": "stream",
     "text": [
      "100%|██████████| 65001/65001 [16:06<00:00, 67.23it/s]  \n"
     ]
    }
   ],
   "source": [
    "corpus['preprocessed'] = corpus['content'].progress_apply(lambda x: preprocess_text(x, drop_numbers=True, drop_potential_links=True, transform_emoji=True))"
   ]
  },
  {
   "cell_type": "code",
   "execution_count": 13,
   "id": "0a57fea8",
   "metadata": {},
   "outputs": [
    {
     "data": {
      "text/html": [
       "<div>\n",
       "<style scoped>\n",
       "    .dataframe tbody tr th:only-of-type {\n",
       "        vertical-align: middle;\n",
       "    }\n",
       "\n",
       "    .dataframe tbody tr th {\n",
       "        vertical-align: top;\n",
       "    }\n",
       "\n",
       "    .dataframe thead th {\n",
       "        text-align: right;\n",
       "    }\n",
       "</style>\n",
       "<table border=\"1\" class=\"dataframe\">\n",
       "  <thead>\n",
       "    <tr style=\"text-align: right;\">\n",
       "      <th></th>\n",
       "      <th>Unnamed: 0</th>\n",
       "      <th>id</th>\n",
       "      <th>content</th>\n",
       "      <th>preprocessed</th>\n",
       "    </tr>\n",
       "  </thead>\n",
       "  <tbody>\n",
       "    <tr>\n",
       "      <th>0</th>\n",
       "      <td>0</td>\n",
       "      <td>ekplmv</td>\n",
       "      <td>My roommate is kicking me out because having a...</td>\n",
       "      <td>[roommat, kick, becaus, femal, roomat, ruin, h...</td>\n",
       "    </tr>\n",
       "    <tr>\n",
       "      <th>1</th>\n",
       "      <td>1</td>\n",
       "      <td>l3538e</td>\n",
       "      <td>Bought a drug house Home My fiance and I just ...</td>\n",
       "      <td>[bought, drug, hous, home, fianc, bought, firs...</td>\n",
       "    </tr>\n",
       "    <tr>\n",
       "      <th>2</th>\n",
       "      <td>2</td>\n",
       "      <td>m5cuyw</td>\n",
       "      <td>Just Bought my First Home Home Title says it a...</td>\n",
       "      <td>[bought, first, home, home, titl, say, im, pro...</td>\n",
       "    </tr>\n",
       "    <tr>\n",
       "      <th>3</th>\n",
       "      <td>3</td>\n",
       "      <td>mmp0vu</td>\n",
       "      <td>(Poorly disguised) ads are showing up too freq...</td>\n",
       "      <td>[poorli, disguis, ad, show, frequent, home, do...</td>\n",
       "    </tr>\n",
       "    <tr>\n",
       "      <th>4</th>\n",
       "      <td>4</td>\n",
       "      <td>naqif5</td>\n",
       "      <td>I found a fantastic way to naturally make your...</td>\n",
       "      <td>[found, fantast, way, natur, make, hous, smell...</td>\n",
       "    </tr>\n",
       "  </tbody>\n",
       "</table>\n",
       "</div>"
      ],
      "text/plain": [
       "   Unnamed: 0      id                                            content  \\\n",
       "0           0  ekplmv  My roommate is kicking me out because having a...   \n",
       "1           1  l3538e  Bought a drug house Home My fiance and I just ...   \n",
       "2           2  m5cuyw  Just Bought my First Home Home Title says it a...   \n",
       "3           3  mmp0vu  (Poorly disguised) ads are showing up too freq...   \n",
       "4           4  naqif5  I found a fantastic way to naturally make your...   \n",
       "\n",
       "                                        preprocessed  \n",
       "0  [roommat, kick, becaus, femal, roomat, ruin, h...  \n",
       "1  [bought, drug, hous, home, fianc, bought, firs...  \n",
       "2  [bought, first, home, home, titl, say, im, pro...  \n",
       "3  [poorli, disguis, ad, show, frequent, home, do...  \n",
       "4  [found, fantast, way, natur, make, hous, smell...  "
      ]
     },
     "execution_count": 13,
     "metadata": {},
     "output_type": "execute_result"
    }
   ],
   "source": [
    "corpus.head()"
   ]
  },
  {
   "cell_type": "code",
   "execution_count": 15,
   "id": "1761bd9c",
   "metadata": {},
   "outputs": [],
   "source": [
    "# to_save = corpus.drop(['content_size', 'content_words'], axis=1)\n",
    "corpus.to_pickle('preprocessed.pickle')"
   ]
  },
  {
   "cell_type": "code",
   "execution_count": 36,
   "id": "1eccd7ed",
   "metadata": {},
   "outputs": [],
   "source": [
    "corpus = pd.read_pickle('preprocessed.pickle')"
   ]
  },
  {
   "cell_type": "markdown",
   "id": "70d224fb",
   "metadata": {},
   "source": [
    "# Gather vocabulary"
   ]
  },
  {
   "cell_type": "code",
   "execution_count": 42,
   "id": "225b6e64",
   "metadata": {},
   "outputs": [],
   "source": [
    "vocab = set([\n",
    "  word for sentence in corpus['preprocessed'] for word in sentence  \n",
    "])"
   ]
  },
  {
   "cell_type": "code",
   "execution_count": 43,
   "id": "5662f5bb",
   "metadata": {},
   "outputs": [
    {
     "data": {
      "text/plain": [
       "172881"
      ]
     },
     "execution_count": 43,
     "metadata": {},
     "output_type": "execute_result"
    }
   ],
   "source": [
    "len(vocab)"
   ]
  },
  {
   "cell_type": "code",
   "execution_count": 22,
   "id": "423286ab",
   "metadata": {},
   "outputs": [],
   "source": [
    "vocab_map = {\n",
    "    word: i\n",
    "    for i, word in enumerate(vocab)\n",
    "}"
   ]
  },
  {
   "cell_type": "code",
   "execution_count": 23,
   "id": "bfe9e5d9",
   "metadata": {},
   "outputs": [],
   "source": [
    "word_freq = [0] * len(vocab)\n",
    "for document in corpus['preprocessed']:\n",
    "    for word in set(document):\n",
    "        word_freq[vocab_map[word]] += 1"
   ]
  },
  {
   "cell_type": "code",
   "execution_count": 24,
   "id": "44b1cf7a",
   "metadata": {},
   "outputs": [],
   "source": [
    "corpus_size = len(corpus['preprocessed'])\n",
    "idf_map = {\n",
    "    i: np.log(corpus_size / freq) if freq > 0 else 0\n",
    "    for i, freq in enumerate(word_freq)\n",
    "}"
   ]
  },
  {
   "cell_type": "code",
   "execution_count": 37,
   "id": "b4224745",
   "metadata": {},
   "outputs": [],
   "source": [
    "counter = Counter([word for sentence in corpus['preprocessed'] for word in sentence])"
   ]
  },
  {
   "cell_type": "code",
   "execution_count": 38,
   "id": "a381ebe3",
   "metadata": {},
   "outputs": [],
   "source": [
    "y = [x[1] for x in counter.most_common()]"
   ]
  },
  {
   "cell_type": "code",
   "execution_count": 39,
   "id": "80993f85",
   "metadata": {},
   "outputs": [
    {
     "data": {
      "text/plain": [
       "(10000.0, 172881.0)"
      ]
     },
     "execution_count": 39,
     "metadata": {},
     "output_type": "execute_result"
    },
    {
     "data": {
      "image/png": "[encoded data removed]",
      "text/plain": [
       "<Figure size 864x288 with 3 Axes>"
      ]
     },
     "metadata": {
      "needs_background": "light"
     },
     "output_type": "display_data"
    }
   ],
   "source": [
    "fig, ax = plt.subplots(1, 3)\n",
    "fig.set_size_inches(12, 4)\n",
    "ax[0].plot(range(1000), y[:1000])\n",
    "ax[0].set_xlim(-1, 1000)\n",
    "ax[1].plot(range(1000, 10000), y[1000:10000])\n",
    "ax[1].set_xlim(1000, 10000)\n",
    "ax[2].plot(range(10000, len(y)), y[10000:])\n",
    "ax[2].set_xlim(10000, len(y))"
   ]
  },
  {
   "cell_type": "code",
   "execution_count": 47,
   "id": "ba59f40b",
   "metadata": {},
   "outputs": [
    {
     "data": {
      "text/plain": [
       "160029"
      ]
     },
     "execution_count": 47,
     "metadata": {},
     "output_type": "execute_result"
    }
   ],
   "source": [
    "np.sum(np.array(y) <= 30)"
   ]
  },
  {
   "cell_type": "code",
   "execution_count": 68,
   "id": "fc5e8efa",
   "metadata": {},
   "outputs": [
    {
     "data": {
      "text/plain": [
       "0.9576345399972106"
      ]
     },
     "execution_count": 68,
     "metadata": {},
     "output_type": "execute_result"
    }
   ],
   "source": [
    "Y = np.array(y)\n",
    "np.sum(Y[Y > 30]) / np.sum(Y)"
   ]
  },
  {
   "cell_type": "code",
   "execution_count": 83,
   "id": "e889912a",
   "metadata": {},
   "outputs": [
    {
     "data": {
      "image/png": "[encoded data removed]",
      "text/plain": [
       "<Figure size 432x288 with 1 Axes>"
      ]
     },
     "metadata": {
      "needs_background": "light"
     },
     "output_type": "display_data"
    }
   ],
   "source": [
    "plt.plot(y)\n",
    "plt.yscale('log')\n",
    "plt.vlines([np.sum(Y >= 30000), np.sum(Y > 30)], 0, 1e5, colors='red')\n",
    "plt.axvspan(np.sum(Y >= 30000), np.sum(Y > 30), alpha=0.5, color='red')\n",
    "plt.title('Liczba wystąpień najpopularniejszych termów')\n",
    "plt.ylabel('Liczba wystąpień')\n",
    "plt.xlabel('Pozycja względem popularności')\n",
    "plt.savefig('popularity')"
   ]
  },
  {
   "cell_type": "code",
   "execution_count": 49,
   "id": "d17e8091",
   "metadata": {},
   "outputs": [],
   "source": [
    "wf = {\n",
    "    x[0]: x[1]\n",
    "    for x in counter.most_common()\n",
    "}"
   ]
  },
  {
   "cell_type": "code",
   "execution_count": 59,
   "id": "0439a68c",
   "metadata": {},
   "outputs": [],
   "source": [
    "vocab = set([\n",
    "    word for sentence in corpus['preprocessed'] for word in sentence if wf[word] > 30 and wf[word] < 30000\n",
    "])\n",
    "\n",
    "vocab_map = {\n",
    "    word: i\n",
    "    for i, word in enumerate(vocab)\n",
    "}"
   ]
  },
  {
   "cell_type": "code",
   "execution_count": 60,
   "id": "b70ceda2",
   "metadata": {},
   "outputs": [
    {
     "data": {
      "text/plain": [
       "12824"
      ]
     },
     "execution_count": 60,
     "metadata": {},
     "output_type": "execute_result"
    }
   ],
   "source": [
    "len(vocab)"
   ]
  },
  {
   "cell_type": "code",
   "execution_count": 61,
   "id": "c6d7c5e5",
   "metadata": {},
   "outputs": [],
   "source": [
    "word_freq = [0] * len(vocab)\n",
    "for document in corpus['preprocessed']:\n",
    "    for word in set(document):\n",
    "        if word in vocab_map:\n",
    "            word_freq[vocab_map[word]] += 1"
   ]
  },
  {
   "cell_type": "code",
   "execution_count": 62,
   "id": "4a46c810",
   "metadata": {},
   "outputs": [],
   "source": [
    "corpus_size = len(corpus['preprocessed'])\n",
    "idf_map = {\n",
    "    i: np.log(corpus_size / freq) if freq > 0 else 0\n",
    "    for i, freq in enumerate(word_freq)\n",
    "}"
   ]
  },
  {
   "cell_type": "code",
   "execution_count": 63,
   "id": "29c7a2bb",
   "metadata": {},
   "outputs": [],
   "source": [
    "def save_obj(vocab_map, file):\n",
    "    with open(file, 'wb') as f:\n",
    "        pickle.dump(vocab_map, f)\n",
    "    \n",
    "def load_obj(file):\n",
    "    with open(file, 'rb') as f:\n",
    "        return pickle.load(f)"
   ]
  },
  {
   "cell_type": "code",
   "execution_count": 64,
   "id": "b8767a07",
   "metadata": {},
   "outputs": [],
   "source": [
    "save_obj(vocab_map, 'opt_map.pickle')"
   ]
  },
  {
   "cell_type": "code",
   "execution_count": 7,
   "id": "d9d7b5ab",
   "metadata": {},
   "outputs": [],
   "source": [
    "vocab_map = load_obj('OPT/map.pickle')"
   ]
  },
  {
   "cell_type": "code",
   "execution_count": 65,
   "id": "db11f7ff",
   "metadata": {},
   "outputs": [],
   "source": [
    "save_obj(idf_map, 'opt_idf_map.pickle')"
   ]
  },
  {
   "cell_type": "markdown",
   "id": "39358efa",
   "metadata": {},
   "source": [
    "# Transform to term-by-document matrix"
   ]
  },
  {
   "cell_type": "code",
   "execution_count": 66,
   "id": "8f4a251a",
   "metadata": {},
   "outputs": [],
   "source": [
    "def veccount_data(data, vocab_map, normalize=False, idf_map=None):\n",
    "    if idf_map is None:\n",
    "        idf_map = [1] * len(vocab_map)\n",
    "    matrix = sparse.dok_matrix((len(vocab_map), len(data)), dtype='float')\n",
    "    current_vec = np.empty(len(vocab_map))\n",
    "    for i, doc in tqdm(enumerate(data)):\n",
    "        current_vec[...] = 0 \n",
    "        # Eval normalization constant\n",
    "        for member in doc:\n",
    "            if member in vocab_map:\n",
    "                current_vec[vocab_map[member]] += idf_map[vocab_map[member]]\n",
    "        # Assign elements and normalize them\n",
    "        vec_norm = np.linalg.norm(current_vec)\n",
    "        if normalize:\n",
    "            current_vec /= vec_norm\n",
    "        for x in np.nonzero(current_vec):\n",
    "            matrix[x, i] = current_vec[x]\n",
    "    return matrix.tocsc()"
   ]
  },
  {
   "cell_type": "code",
   "execution_count": 84,
   "id": "e265fb6b",
   "metadata": {},
   "outputs": [
    {
     "name": "stderr",
     "output_type": "stream",
     "text": [
      "65001it [01:14, 870.76it/s] \n"
     ]
    }
   ],
   "source": [
    "matrix = veccount_data(corpus['preprocessed'], vocab_map, normalize=True, idf_map=idf_map)"
   ]
  },
  {
   "cell_type": "code",
   "execution_count": 67,
   "id": "c8fc4475",
   "metadata": {},
   "outputs": [
    {
     "data": {
      "text/plain": [
       "'Matrix size in memory: 13.6372104 MB'"
      ]
     },
     "execution_count": 67,
     "metadata": {},
     "output_type": "execute_result"
    }
   ],
   "source": [
    "f'Matrix size in memory: {3 * matrix.data.nbytes / 10000000} MB'"
   ]
  },
  {
   "cell_type": "code",
   "execution_count": 86,
   "id": "1cf7095c",
   "metadata": {
    "tags": []
   },
   "outputs": [],
   "source": [
    "sparse.save_npz('opt_idf.npz', matrix)"
   ]
  },
  {
   "cell_type": "code",
   "execution_count": 2,
   "id": "ad52dfd8",
   "metadata": {},
   "outputs": [],
   "source": [
    "matrix = sparse.load_npz('OPT/idf.npz')"
   ]
  },
  {
   "cell_type": "markdown",
   "id": "629f32de",
   "metadata": {},
   "source": [
    "## Search engine tests"
   ]
  },
  {
   "cell_type": "code",
   "execution_count": 70,
   "id": "6a8b963f",
   "metadata": {},
   "outputs": [],
   "source": [
    "small_db = pd.read_csv('OPT/smalldb.csv')"
   ]
  },
  {
   "cell_type": "code",
   "execution_count": 71,
   "id": "977e9639",
   "metadata": {},
   "outputs": [
    {
     "data": {
      "text/plain": [
       "['learn', 'code']"
      ]
     },
     "execution_count": 71,
     "metadata": {},
     "output_type": "execute_result"
    }
   ],
   "source": [
    "query_data = preprocess_text('how to learn to code', drop_numbers=True, drop_potential_links=True, transform_emoji=True)\n",
    "query_data"
   ]
  },
  {
   "cell_type": "code",
   "execution_count": 72,
   "id": "e808ae63",
   "metadata": {},
   "outputs": [
    {
     "name": "stderr",
     "output_type": "stream",
     "text": [
      "1it [00:00, 109.89it/s]\n"
     ]
    }
   ],
   "source": [
    "vec = veccount_data([query_data], vocab_map, normalize=True, idf_map=idf_map)"
   ]
  },
  {
   "cell_type": "code",
   "execution_count": 73,
   "id": "445754f5",
   "metadata": {},
   "outputs": [],
   "source": [
    "sol = np.asarray((vec.T @ matrix).todense()).argsort()[0]"
   ]
  },
  {
   "cell_type": "code",
   "execution_count": 74,
   "id": "af9c7f39",
   "metadata": {
    "tags": []
   },
   "outputs": [
    {
     "data": {
      "text/html": [
       "<div>\n",
       "<style scoped>\n",
       "    .dataframe tbody tr th:only-of-type {\n",
       "        vertical-align: middle;\n",
       "    }\n",
       "\n",
       "    .dataframe tbody tr th {\n",
       "        vertical-align: top;\n",
       "    }\n",
       "\n",
       "    .dataframe thead th {\n",
       "        text-align: right;\n",
       "    }\n",
       "</style>\n",
       "<table border=\"1\" class=\"dataframe\">\n",
       "  <thead>\n",
       "    <tr style=\"text-align: right;\">\n",
       "      <th></th>\n",
       "      <th>Unnamed: 0</th>\n",
       "      <th>title</th>\n",
       "      <th>subreddit</th>\n",
       "      <th>url</th>\n",
       "      <th>body</th>\n",
       "    </tr>\n",
       "  </thead>\n",
       "  <tbody>\n",
       "    <tr>\n",
       "      <th>23234</th>\n",
       "      <td>23234</td>\n",
       "      <td>Break From Coding</td>\n",
       "      <td>learnprogramming</td>\n",
       "      <td>https://www.reddit.com/r/learnprogramming/comm...</td>\n",
       "      <td>I have been learning Java for about 6 months n...</td>\n",
       "    </tr>\n",
       "    <tr>\n",
       "      <th>22817</th>\n",
       "      <td>22817</td>\n",
       "      <td>If you are learning programming(newbie), these...</td>\n",
       "      <td>learnprogramming</td>\n",
       "      <td>https://www.reddit.com/r/learnprogramming/comm...</td>\n",
       "      <td>As many ask for free resources in this vast wo...</td>\n",
       "    </tr>\n",
       "    <tr>\n",
       "      <th>20825</th>\n",
       "      <td>20825</td>\n",
       "      <td>PSA: To new programmers or to those new to pos...</td>\n",
       "      <td>learnpython</td>\n",
       "      <td>https://www.reddit.com/r/learnpython/comments/...</td>\n",
       "      <td>I've had some spare time to parse this subredd...</td>\n",
       "    </tr>\n",
       "    <tr>\n",
       "      <th>22981</th>\n",
       "      <td>22981</td>\n",
       "      <td>Just a simple piece of advice as I code more e...</td>\n",
       "      <td>learnprogramming</td>\n",
       "      <td>https://www.reddit.com/r/learnprogramming/comm...</td>\n",
       "      <td>I noticed when I first started learning to cod...</td>\n",
       "    </tr>\n",
       "    <tr>\n",
       "      <th>22993</th>\n",
       "      <td>22993</td>\n",
       "      <td>Code Wars is my favourite resource as a beginner</td>\n",
       "      <td>learnprogramming</td>\n",
       "      <td>https://www.reddit.com/r/learnprogramming/comm...</td>\n",
       "      <td>** Absolutely no affiliation to Code Wars. \\n\\...</td>\n",
       "    </tr>\n",
       "    <tr>\n",
       "      <th>23059</th>\n",
       "      <td>23059</td>\n",
       "      <td>Have ADHD and wanna learn how to code? You can...</td>\n",
       "      <td>learnprogramming</td>\n",
       "      <td>https://www.reddit.com/r/learnprogramming/comm...</td>\n",
       "      <td>I just wanna make a motivational post for my f...</td>\n",
       "    </tr>\n",
       "    <tr>\n",
       "      <th>22897</th>\n",
       "      <td>22897</td>\n",
       "      <td>How to actually stay motivated to learn how to...</td>\n",
       "      <td>learnprogramming</td>\n",
       "      <td>https://www.reddit.com/r/learnprogramming/comm...</td>\n",
       "      <td>Hey Reddit,\\nLearning to code is a bitch.\\n\\nI...</td>\n",
       "    </tr>\n",
       "    <tr>\n",
       "      <th>21061</th>\n",
       "      <td>21061</td>\n",
       "      <td>Do you know any GitHub Users who write really ...</td>\n",
       "      <td>learnpython</td>\n",
       "      <td>https://www.reddit.com/r/learnpython/comments/...</td>\n",
       "      <td>Hey I am a Beginner in Python and I would like...</td>\n",
       "    </tr>\n",
       "    <tr>\n",
       "      <th>23191</th>\n",
       "      <td>23191</td>\n",
       "      <td>12 free games to learn programming.</td>\n",
       "      <td>learnprogramming</td>\n",
       "      <td>https://www.reddit.com/r/learnprogramming/comm...</td>\n",
       "      <td>I stumbled upon [12 Free Games to Learn Progra...</td>\n",
       "    </tr>\n",
       "    <tr>\n",
       "      <th>23116</th>\n",
       "      <td>23116</td>\n",
       "      <td>Learn JavaScript By Coding Flappy Bird And Sna...</td>\n",
       "      <td>learnprogramming</td>\n",
       "      <td>https://www.reddit.com/r/learnprogramming/comm...</td>\n",
       "      <td>https://www.youtube.com/watch?v=9TcU2C1AACw&amp;li...</td>\n",
       "    </tr>\n",
       "    <tr>\n",
       "      <th>11929</th>\n",
       "      <td>11929</td>\n",
       "      <td>[Giveaway] I reached 40k subs on my D&amp;D ambien...</td>\n",
       "      <td>dndnext</td>\n",
       "      <td>https://www.reddit.com/r/dndnext/comments/gtzx...</td>\n",
       "      <td>Greetings adventurers,\\n\\nHuge projects can ha...</td>\n",
       "    </tr>\n",
       "    <tr>\n",
       "      <th>49319</th>\n",
       "      <td>49319</td>\n",
       "      <td>Code reflection in Savathuns Song strike?</td>\n",
       "      <td>raidsecrets</td>\n",
       "      <td>https://www.reddit.com/r/raidsecrets/comments/...</td>\n",
       "      <td>Was trying to play through strike to get new e...</td>\n",
       "    </tr>\n",
       "    <tr>\n",
       "      <th>22979</th>\n",
       "      <td>22979</td>\n",
       "      <td>Why learning to code is so hard</td>\n",
       "      <td>learnprogramming</td>\n",
       "      <td>https://www.reddit.com/r/learnprogramming/comm...</td>\n",
       "      <td>My friend who's a software engineer made [a vi...</td>\n",
       "    </tr>\n",
       "    <tr>\n",
       "      <th>20809</th>\n",
       "      <td>20809</td>\n",
       "      <td>Will coding endlessly actually make you better...</td>\n",
       "      <td>learnpython</td>\n",
       "      <td>https://www.reddit.com/r/learnpython/comments/...</td>\n",
       "      <td>By now I know pretty much all the basics and t...</td>\n",
       "    </tr>\n",
       "    <tr>\n",
       "      <th>45638</th>\n",
       "      <td>45638</td>\n",
       "      <td>Is there something like code academy for learn...</td>\n",
       "      <td>PowerShell</td>\n",
       "      <td>https://www.reddit.com/r/PowerShell/comments/d...</td>\n",
       "      <td>I really like the style of teaching that code ...</td>\n",
       "    </tr>\n",
       "    <tr>\n",
       "      <th>36022</th>\n",
       "      <td>36022</td>\n",
       "      <td>EVGA.com Update - Rewhitelisted</td>\n",
       "      <td>buildapcsales</td>\n",
       "      <td>https://www.reddit.com/r/buildapcsales/comment...</td>\n",
       "      <td>EVGA granted us a sub-wide affiliate code ````...</td>\n",
       "    </tr>\n",
       "    <tr>\n",
       "      <th>23005</th>\n",
       "      <td>23005</td>\n",
       "      <td>The new way to improve your coding skills whil...</td>\n",
       "      <td>learnprogramming</td>\n",
       "      <td>https://www.reddit.com/r/learnprogramming/comm...</td>\n",
       "      <td>A colleague at work demoed this website (not h...</td>\n",
       "    </tr>\n",
       "    <tr>\n",
       "      <th>21159</th>\n",
       "      <td>21159</td>\n",
       "      <td>To admins: is it possible to add a \"please be ...</td>\n",
       "      <td>learnpython</td>\n",
       "      <td>https://www.reddit.com/r/learnpython/comments/...</td>\n",
       "      <td>Dear [wub\\_wub](https://www.reddit.com/user/wu...</td>\n",
       "    </tr>\n",
       "    <tr>\n",
       "      <th>20767</th>\n",
       "      <td>20767</td>\n",
       "      <td>Coding sites for beginners like pythonchalleng...</td>\n",
       "      <td>learnpython</td>\n",
       "      <td>https://www.reddit.com/r/learnpython/comments/...</td>\n",
       "      <td>I am new to programming and just completed a f...</td>\n",
       "    </tr>\n",
       "    <tr>\n",
       "      <th>48262</th>\n",
       "      <td>48262</td>\n",
       "      <td>Spotify Premium 6 Month Trial Code - Free</td>\n",
       "      <td>spotify</td>\n",
       "      <td>https://www.reddit.com/r/spotify/comments/judt...</td>\n",
       "      <td>I got this as a perk on XBox Game Pass, I can'...</td>\n",
       "    </tr>\n",
       "  </tbody>\n",
       "</table>\n",
       "</div>"
      ],
      "text/plain": [
       "       Unnamed: 0                                              title  \\\n",
       "23234       23234                                  Break From Coding   \n",
       "22817       22817  If you are learning programming(newbie), these...   \n",
       "20825       20825  PSA: To new programmers or to those new to pos...   \n",
       "22981       22981  Just a simple piece of advice as I code more e...   \n",
       "22993       22993   Code Wars is my favourite resource as a beginner   \n",
       "23059       23059  Have ADHD and wanna learn how to code? You can...   \n",
       "22897       22897  How to actually stay motivated to learn how to...   \n",
       "21061       21061  Do you know any GitHub Users who write really ...   \n",
       "23191       23191                12 free games to learn programming.   \n",
       "23116       23116  Learn JavaScript By Coding Flappy Bird And Sna...   \n",
       "11929       11929  [Giveaway] I reached 40k subs on my D&D ambien...   \n",
       "49319       49319          Code reflection in Savathuns Song strike?   \n",
       "22979       22979                    Why learning to code is so hard   \n",
       "20809       20809  Will coding endlessly actually make you better...   \n",
       "45638       45638  Is there something like code academy for learn...   \n",
       "36022       36022                    EVGA.com Update - Rewhitelisted   \n",
       "23005       23005  The new way to improve your coding skills whil...   \n",
       "21159       21159  To admins: is it possible to add a \"please be ...   \n",
       "20767       20767  Coding sites for beginners like pythonchalleng...   \n",
       "48262       48262          Spotify Premium 6 Month Trial Code - Free   \n",
       "\n",
       "              subreddit                                                url  \\\n",
       "23234  learnprogramming  https://www.reddit.com/r/learnprogramming/comm...   \n",
       "22817  learnprogramming  https://www.reddit.com/r/learnprogramming/comm...   \n",
       "20825       learnpython  https://www.reddit.com/r/learnpython/comments/...   \n",
       "22981  learnprogramming  https://www.reddit.com/r/learnprogramming/comm...   \n",
       "22993  learnprogramming  https://www.reddit.com/r/learnprogramming/comm...   \n",
       "23059  learnprogramming  https://www.reddit.com/r/learnprogramming/comm...   \n",
       "22897  learnprogramming  https://www.reddit.com/r/learnprogramming/comm...   \n",
       "21061       learnpython  https://www.reddit.com/r/learnpython/comments/...   \n",
       "23191  learnprogramming  https://www.reddit.com/r/learnprogramming/comm...   \n",
       "23116  learnprogramming  https://www.reddit.com/r/learnprogramming/comm...   \n",
       "11929           dndnext  https://www.reddit.com/r/dndnext/comments/gtzx...   \n",
       "49319       raidsecrets  https://www.reddit.com/r/raidsecrets/comments/...   \n",
       "22979  learnprogramming  https://www.reddit.com/r/learnprogramming/comm...   \n",
       "20809       learnpython  https://www.reddit.com/r/learnpython/comments/...   \n",
       "45638        PowerShell  https://www.reddit.com/r/PowerShell/comments/d...   \n",
       "36022     buildapcsales  https://www.reddit.com/r/buildapcsales/comment...   \n",
       "23005  learnprogramming  https://www.reddit.com/r/learnprogramming/comm...   \n",
       "21159       learnpython  https://www.reddit.com/r/learnpython/comments/...   \n",
       "20767       learnpython  https://www.reddit.com/r/learnpython/comments/...   \n",
       "48262           spotify  https://www.reddit.com/r/spotify/comments/judt...   \n",
       "\n",
       "                                                    body  \n",
       "23234  I have been learning Java for about 6 months n...  \n",
       "22817  As many ask for free resources in this vast wo...  \n",
       "20825  I've had some spare time to parse this subredd...  \n",
       "22981  I noticed when I first started learning to cod...  \n",
       "22993  ** Absolutely no affiliation to Code Wars. \\n\\...  \n",
       "23059  I just wanna make a motivational post for my f...  \n",
       "22897  Hey Reddit,\\nLearning to code is a bitch.\\n\\nI...  \n",
       "21061  Hey I am a Beginner in Python and I would like...  \n",
       "23191  I stumbled upon [12 Free Games to Learn Progra...  \n",
       "23116  https://www.youtube.com/watch?v=9TcU2C1AACw&li...  \n",
       "11929  Greetings adventurers,\\n\\nHuge projects can ha...  \n",
       "49319  Was trying to play through strike to get new e...  \n",
       "22979  My friend who's a software engineer made [a vi...  \n",
       "20809  By now I know pretty much all the basics and t...  \n",
       "45638  I really like the style of teaching that code ...  \n",
       "36022  EVGA granted us a sub-wide affiliate code ````...  \n",
       "23005  A colleague at work demoed this website (not h...  \n",
       "21159  Dear [wub\\_wub](https://www.reddit.com/user/wu...  \n",
       "20767  I am new to programming and just completed a f...  \n",
       "48262  I got this as a perk on XBox Game Pass, I can'...  "
      ]
     },
     "execution_count": 74,
     "metadata": {},
     "output_type": "execute_result"
    }
   ],
   "source": [
    "small_db.iloc[sol[-20:][::-1]]"
   ]
  },
  {
   "cell_type": "code",
   "execution_count": 60,
   "id": "ab833558",
   "metadata": {},
   "outputs": [],
   "source": [
    "small_db = df.drop(['score', 'id', 'created', 'len'], axis=1)\n",
    "small_db.to_csv('large_smalldb.csv')"
   ]
  },
  {
   "cell_type": "code",
   "execution_count": 61,
   "id": "a1975ed7",
   "metadata": {},
   "outputs": [
    {
     "name": "stdout",
     "output_type": "stream",
     "text": [
      "<class 'pandas.core.frame.DataFrame'>\n",
      "Int64Index: 65001 entries, 0 to 65000\n",
      "Data columns (total 4 columns):\n",
      " #   Column     Non-Null Count  Dtype \n",
      "---  ------     --------------  ----- \n",
      " 0   title      65001 non-null  object\n",
      " 1   subreddit  65001 non-null  object\n",
      " 2   url        65001 non-null  object\n",
      " 3   body       65001 non-null  object\n",
      "dtypes: object(4)\n",
      "memory usage: 2.5+ MB\n"
     ]
    }
   ],
   "source": [
    "small_db.info()"
   ]
  },
  {
   "cell_type": "markdown",
   "id": "2be130ba",
   "metadata": {},
   "source": [
    "## Low rank approximation"
   ]
  },
  {
   "cell_type": "markdown",
   "id": "3346c855",
   "metadata": {},
   "source": [
    "We will calculate only first 1500 singular values"
   ]
  },
  {
   "cell_type": "code",
   "execution_count": 3,
   "id": "b3027d03",
   "metadata": {},
   "outputs": [],
   "source": [
    "u, s, v_t = sparse.linalg.svds(matrix, k=1500)"
   ]
  },
  {
   "cell_type": "code",
   "execution_count": 4,
   "id": "5fe7cfdc",
   "metadata": {},
   "outputs": [],
   "source": [
    "with open('svd.pickle', 'wb') as f:\n",
    "    pickle.dump((u, s, v_t), f)"
   ]
  },
  {
   "cell_type": "code",
   "execution_count": 10,
   "id": "14005f84",
   "metadata": {},
   "outputs": [],
   "source": [
    "with open('OPT/svd.pickle', 'rb') as f:\n",
    "    (u, s, v_t) = pickle.load(f)"
   ]
  }
 ],
 "metadata": {
  "kernelspec": {
   "display_name": "Python 3",
   "language": "python",
   "name": "python3"
  },
  "language_info": {
   "codemirror_mode": {
    "name": "ipython",
    "version": 3
   },
   "file_extension": ".py",
   "mimetype": "text/x-python",
   "name": "python",
   "nbconvert_exporter": "python",
   "pygments_lexer": "ipython3",
   "version": "3.9.4"
  }
 },
 "nbformat": 4,
 "nbformat_minor": 5
}
